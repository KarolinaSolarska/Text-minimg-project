{
 "cells": [
  {
   "cell_type": "markdown",
   "metadata": {},
   "source": [
    "#### Karolina Solarska (410858), Zuzanna Kostecka (420833)"
   ]
  },
  {
   "cell_type": "markdown",
   "metadata": {},
   "source": [
    "# A Comprehensive Analysis of Elon Musk's Tweeted Topics and Trends"
   ]
  },
  {
   "cell_type": "markdown",
   "metadata": {},
   "source": [
    "#### Project description\n",
    "In this project we prepare the data (Elon Musk's tweets) in a way, that will help us to gain most possible information. We will try both removing all the frequent but meaningless words (we will call them stopwords for the simplifaction), and also exploring the NER without removal. The first approach in column ***nostopwords_rootform_text*** will be used for unsupervised learning method of knowledge extraction - clustering. We will try to find out which topics and which specific entities are most frequently raised by the author. The second approach will concern the named entity recognition (NER) analysis. Lastly we will use the topic modelling techniques: Non-Negative Matrix Factorization and Bertopic model. \n",
    "<br>\n",
    "<br>\n",
    "#### Challenge of the project\n",
    "The substantial question here would be which approach fit our problem the most and overrides the potential issues related to the language that the author is using. We will assess not only the wuality of the output but also its reproducibility and time consumption.\n",
    "<br>\n",
    "<br>\n",
    "#### Purpose/ object of the analysis\n",
    "**The main purpose of the project is to confirm or reject the assumption, that Elon Musk, as an important business owner and technology prompter is engaged to the politics, ai topics, his own businesses and moral issues.** We will compare a several approaches in terms of topic modelling performance."
   ]
  },
  {
   "cell_type": "markdown",
   "metadata": {},
   "source": [
    "***Table of contents:***\n",
    "1. Read and cleaning \n",
    "2. EDA\n",
    "3. Clustering\n",
    "4. NER\n",
    "5. Topic modelling\n",
    "6. Conclusion\n",
    "7. Appendix"
   ]
  },
  {
   "cell_type": "code",
   "execution_count": 1,
   "metadata": {},
   "outputs": [],
   "source": [
    "import matplotlib.pyplot as plt\n",
    "import nltk\n",
    "import nltk.corpus\n",
    "import numpy as np\n",
    "import pandas as pd\n",
    "import re\n",
    "import seaborn as sns\n",
    "import spacy\n",
    "from bertopic import BERTopic\n",
    "from bertopic.vectorizers import ClassTfidfTransformer\n",
    "from collections import Counter\n",
    "from nltk.corpus import stopwords \n",
    "from nltk.stem import PorterStemmer \n",
    "from nltk.tokenize import RegexpTokenizer, word_tokenize\n",
    "from sklearn.feature_extraction.text import CountVectorizer, TfidfVectorizer\n",
    "from sklearn.metrics.pairwise import cosine_similarity\n",
    "from wordcloud import WordCloud\n",
    "\n",
    "# download if necessary\n",
    "# nltk.download('punkt')\n",
    "# nltk.download('stopwords')"
   ]
  },
  {
   "cell_type": "markdown",
   "metadata": {},
   "source": [
    "# 1. Dataset description, read and cleaning"
   ]
  },
  {
   "cell_type": "markdown",
   "metadata": {},
   "source": [
    "The dataset has been sourced from Kaggle: https://www.kaggle.com/code/vencerlanz09/elon-musk-tweets-eda-and-sentiment-analysis/notebook. It contains 5904 tweets of Elon Musk from July 2022 until June 2023. "
   ]
  },
  {
   "cell_type": "code",
   "execution_count": 2,
   "metadata": {},
   "outputs": [
    {
     "data": {
      "text/plain": [
       "5904"
      ]
     },
     "execution_count": 2,
     "metadata": {},
     "output_type": "execute_result"
    }
   ],
   "source": [
    "tweets = pd.read_csv(\"Data//elon_musk_tweets.csv\")\n",
    "len(tweets)"
   ]
  },
  {
   "cell_type": "markdown",
   "metadata": {},
   "source": [
    "#### Drop unnecessary columns"
   ]
  },
  {
   "cell_type": "code",
   "execution_count": 3,
   "metadata": {},
   "outputs": [
    {
     "data": {
      "text/html": [
       "<div>\n",
       "<style scoped>\n",
       "    .dataframe tbody tr th:only-of-type {\n",
       "        vertical-align: middle;\n",
       "    }\n",
       "\n",
       "    .dataframe tbody tr th {\n",
       "        vertical-align: top;\n",
       "    }\n",
       "\n",
       "    .dataframe thead th {\n",
       "        text-align: right;\n",
       "    }\n",
       "</style>\n",
       "<table border=\"1\" class=\"dataframe\">\n",
       "  <thead>\n",
       "    <tr style=\"text-align: right;\">\n",
       "      <th></th>\n",
       "      <th>id</th>\n",
       "      <th>user_name</th>\n",
       "      <th>user_description</th>\n",
       "      <th>user_followers</th>\n",
       "      <th>date</th>\n",
       "      <th>text</th>\n",
       "      <th>hashtags</th>\n",
       "      <th>retweets</th>\n",
       "      <th>favorites</th>\n",
       "      <th>is_retweet</th>\n",
       "    </tr>\n",
       "  </thead>\n",
       "  <tbody>\n",
       "    <tr>\n",
       "      <th>0</th>\n",
       "      <td>1544379368478212100</td>\n",
       "      <td>Elon Musk</td>\n",
       "      <td>Mars &amp; Cars, Chips &amp; Dips</td>\n",
       "      <td>101240855</td>\n",
       "      <td>2022-07-05 17:55:09+00:00</td>\n",
       "      <td>@BillyM2k I find the gold toe sock – inevitabl...</td>\n",
       "      <td>NaN</td>\n",
       "      <td>335</td>\n",
       "      <td>6542</td>\n",
       "      <td>False</td>\n",
       "    </tr>\n",
       "    <tr>\n",
       "      <th>1</th>\n",
       "      <td>1544377493263720450</td>\n",
       "      <td>Elon Musk</td>\n",
       "      <td>Mars &amp; Cars, Chips &amp; Dips</td>\n",
       "      <td>101240806</td>\n",
       "      <td>2022-07-05 17:47:42+00:00</td>\n",
       "      <td>Sock Con, the conference for socks</td>\n",
       "      <td>NaN</td>\n",
       "      <td>1451</td>\n",
       "      <td>30753</td>\n",
       "      <td>False</td>\n",
       "    </tr>\n",
       "    <tr>\n",
       "      <th>2</th>\n",
       "      <td>1544377130590552064</td>\n",
       "      <td>Elon Musk</td>\n",
       "      <td>Mars &amp; Cars, Chips &amp; Dips</td>\n",
       "      <td>101240806</td>\n",
       "      <td>2022-07-05 17:46:15+00:00</td>\n",
       "      <td>Always something new for the magazine cover an...</td>\n",
       "      <td>NaN</td>\n",
       "      <td>1284</td>\n",
       "      <td>28610</td>\n",
       "      <td>False</td>\n",
       "    </tr>\n",
       "  </tbody>\n",
       "</table>\n",
       "</div>"
      ],
      "text/plain": [
       "                    id  user_name           user_description  user_followers  \\\n",
       "0  1544379368478212100  Elon Musk  Mars & Cars, Chips & Dips       101240855   \n",
       "1  1544377493263720450  Elon Musk  Mars & Cars, Chips & Dips       101240806   \n",
       "2  1544377130590552064  Elon Musk  Mars & Cars, Chips & Dips       101240806   \n",
       "\n",
       "                        date  \\\n",
       "0  2022-07-05 17:55:09+00:00   \n",
       "1  2022-07-05 17:47:42+00:00   \n",
       "2  2022-07-05 17:46:15+00:00   \n",
       "\n",
       "                                                text hashtags  retweets  \\\n",
       "0  @BillyM2k I find the gold toe sock – inevitabl...      NaN       335   \n",
       "1                 Sock Con, the conference for socks      NaN      1451   \n",
       "2  Always something new for the magazine cover an...      NaN      1284   \n",
       "\n",
       "   favorites  is_retweet  \n",
       "0       6542       False  \n",
       "1      30753       False  \n",
       "2      28610       False  "
      ]
     },
     "execution_count": 3,
     "metadata": {},
     "output_type": "execute_result"
    }
   ],
   "source": [
    "drop_columns = [\"user_location\", \"user_created\", \"user_friends\", \"user_favourites\", \"user_verified\",\"source\", \"user_location\"]\n",
    "tweets.drop(drop_columns, axis=1, inplace=True)\n",
    "tweets.head(3)"
   ]
  },
  {
   "cell_type": "markdown",
   "metadata": {},
   "source": [
    "#### Drop special characters"
   ]
  },
  {
   "cell_type": "markdown",
   "metadata": {},
   "source": [
    "We do not drop @ since it help us to recognize that author is replying to someone (or just tags an user)"
   ]
  },
  {
   "cell_type": "code",
   "execution_count": 4,
   "metadata": {},
   "outputs": [
    {
     "data": {
      "text/html": [
       "<div>\n",
       "<style scoped>\n",
       "    .dataframe tbody tr th:only-of-type {\n",
       "        vertical-align: middle;\n",
       "    }\n",
       "\n",
       "    .dataframe tbody tr th {\n",
       "        vertical-align: top;\n",
       "    }\n",
       "\n",
       "    .dataframe thead th {\n",
       "        text-align: right;\n",
       "    }\n",
       "</style>\n",
       "<table border=\"1\" class=\"dataframe\">\n",
       "  <thead>\n",
       "    <tr style=\"text-align: right;\">\n",
       "      <th></th>\n",
       "      <th>id</th>\n",
       "      <th>user_name</th>\n",
       "      <th>user_description</th>\n",
       "      <th>user_followers</th>\n",
       "      <th>date</th>\n",
       "      <th>text</th>\n",
       "      <th>hashtags</th>\n",
       "      <th>retweets</th>\n",
       "      <th>favorites</th>\n",
       "      <th>is_retweet</th>\n",
       "    </tr>\n",
       "  </thead>\n",
       "  <tbody>\n",
       "    <tr>\n",
       "      <th>0</th>\n",
       "      <td>1544379368478212100</td>\n",
       "      <td>Elon Musk</td>\n",
       "      <td>Mars &amp; Cars, Chips &amp; Dips</td>\n",
       "      <td>101240855</td>\n",
       "      <td>2022-07-05 17:55:09+00:00</td>\n",
       "      <td>@BillyM2k I find the gold toe sock inevitably ...</td>\n",
       "      <td>NaN</td>\n",
       "      <td>335</td>\n",
       "      <td>6542</td>\n",
       "      <td>False</td>\n",
       "    </tr>\n",
       "    <tr>\n",
       "      <th>1</th>\n",
       "      <td>1544377493263720450</td>\n",
       "      <td>Elon Musk</td>\n",
       "      <td>Mars &amp; Cars, Chips &amp; Dips</td>\n",
       "      <td>101240806</td>\n",
       "      <td>2022-07-05 17:47:42+00:00</td>\n",
       "      <td>Sock Con the conference for socks</td>\n",
       "      <td>NaN</td>\n",
       "      <td>1451</td>\n",
       "      <td>30753</td>\n",
       "      <td>False</td>\n",
       "    </tr>\n",
       "    <tr>\n",
       "      <th>2</th>\n",
       "      <td>1544377130590552064</td>\n",
       "      <td>Elon Musk</td>\n",
       "      <td>Mars &amp; Cars, Chips &amp; Dips</td>\n",
       "      <td>101240806</td>\n",
       "      <td>2022-07-05 17:46:15+00:00</td>\n",
       "      <td>Always something new for the magazine cover an...</td>\n",
       "      <td>NaN</td>\n",
       "      <td>1284</td>\n",
       "      <td>28610</td>\n",
       "      <td>False</td>\n",
       "    </tr>\n",
       "  </tbody>\n",
       "</table>\n",
       "</div>"
      ],
      "text/plain": [
       "                    id  user_name           user_description  user_followers  \\\n",
       "0  1544379368478212100  Elon Musk  Mars & Cars, Chips & Dips       101240855   \n",
       "1  1544377493263720450  Elon Musk  Mars & Cars, Chips & Dips       101240806   \n",
       "2  1544377130590552064  Elon Musk  Mars & Cars, Chips & Dips       101240806   \n",
       "\n",
       "                        date  \\\n",
       "0  2022-07-05 17:55:09+00:00   \n",
       "1  2022-07-05 17:47:42+00:00   \n",
       "2  2022-07-05 17:46:15+00:00   \n",
       "\n",
       "                                                text hashtags  retweets  \\\n",
       "0  @BillyM2k I find the gold toe sock inevitably ...      NaN       335   \n",
       "1                  Sock Con the conference for socks      NaN      1451   \n",
       "2  Always something new for the magazine cover an...      NaN      1284   \n",
       "\n",
       "   favorites  is_retweet  \n",
       "0       6542       False  \n",
       "1      30753       False  \n",
       "2      28610       False  "
      ]
     },
     "execution_count": 4,
     "metadata": {},
     "output_type": "execute_result"
    }
   ],
   "source": [
    "def clean_text(text):\n",
    "    cleaned_text = re.sub(r'[^a-zA-Z0-9@ \\n]', '', text)\n",
    "    cleaned_text = re.sub(r' +', ' ', cleaned_text)\n",
    "    return cleaned_text\n",
    "\n",
    "tweets['text'] = tweets['text'].apply(clean_text)\n",
    "tweets.head(3)\n"
   ]
  },
  {
   "cell_type": "markdown",
   "metadata": {},
   "source": [
    "Let's replace all the @username with \"username\"."
   ]
  },
  {
   "cell_type": "code",
   "execution_count": 5,
   "metadata": {},
   "outputs": [
    {
     "data": {
      "text/html": [
       "<div>\n",
       "<style scoped>\n",
       "    .dataframe tbody tr th:only-of-type {\n",
       "        vertical-align: middle;\n",
       "    }\n",
       "\n",
       "    .dataframe tbody tr th {\n",
       "        vertical-align: top;\n",
       "    }\n",
       "\n",
       "    .dataframe thead th {\n",
       "        text-align: right;\n",
       "    }\n",
       "</style>\n",
       "<table border=\"1\" class=\"dataframe\">\n",
       "  <thead>\n",
       "    <tr style=\"text-align: right;\">\n",
       "      <th></th>\n",
       "      <th>id</th>\n",
       "      <th>user_name</th>\n",
       "      <th>user_description</th>\n",
       "      <th>user_followers</th>\n",
       "      <th>date</th>\n",
       "      <th>text</th>\n",
       "      <th>hashtags</th>\n",
       "      <th>retweets</th>\n",
       "      <th>favorites</th>\n",
       "      <th>is_retweet</th>\n",
       "    </tr>\n",
       "  </thead>\n",
       "  <tbody>\n",
       "    <tr>\n",
       "      <th>0</th>\n",
       "      <td>1544379368478212100</td>\n",
       "      <td>Elon Musk</td>\n",
       "      <td>Mars &amp; Cars, Chips &amp; Dips</td>\n",
       "      <td>101240855</td>\n",
       "      <td>2022-07-05 17:55:09+00:00</td>\n",
       "      <td>username I find the gold toe sock inevitably o...</td>\n",
       "      <td>NaN</td>\n",
       "      <td>335</td>\n",
       "      <td>6542</td>\n",
       "      <td>False</td>\n",
       "    </tr>\n",
       "    <tr>\n",
       "      <th>1</th>\n",
       "      <td>1544377493263720450</td>\n",
       "      <td>Elon Musk</td>\n",
       "      <td>Mars &amp; Cars, Chips &amp; Dips</td>\n",
       "      <td>101240806</td>\n",
       "      <td>2022-07-05 17:47:42+00:00</td>\n",
       "      <td>Sock Con the conference for socks</td>\n",
       "      <td>NaN</td>\n",
       "      <td>1451</td>\n",
       "      <td>30753</td>\n",
       "      <td>False</td>\n",
       "    </tr>\n",
       "    <tr>\n",
       "      <th>2</th>\n",
       "      <td>1544377130590552064</td>\n",
       "      <td>Elon Musk</td>\n",
       "      <td>Mars &amp; Cars, Chips &amp; Dips</td>\n",
       "      <td>101240806</td>\n",
       "      <td>2022-07-05 17:46:15+00:00</td>\n",
       "      <td>Always something new for the magazine cover an...</td>\n",
       "      <td>NaN</td>\n",
       "      <td>1284</td>\n",
       "      <td>28610</td>\n",
       "      <td>False</td>\n",
       "    </tr>\n",
       "  </tbody>\n",
       "</table>\n",
       "</div>"
      ],
      "text/plain": [
       "                    id  user_name           user_description  user_followers  \\\n",
       "0  1544379368478212100  Elon Musk  Mars & Cars, Chips & Dips       101240855   \n",
       "1  1544377493263720450  Elon Musk  Mars & Cars, Chips & Dips       101240806   \n",
       "2  1544377130590552064  Elon Musk  Mars & Cars, Chips & Dips       101240806   \n",
       "\n",
       "                        date  \\\n",
       "0  2022-07-05 17:55:09+00:00   \n",
       "1  2022-07-05 17:47:42+00:00   \n",
       "2  2022-07-05 17:46:15+00:00   \n",
       "\n",
       "                                                text hashtags  retweets  \\\n",
       "0  username I find the gold toe sock inevitably o...      NaN       335   \n",
       "1                  Sock Con the conference for socks      NaN      1451   \n",
       "2  Always something new for the magazine cover an...      NaN      1284   \n",
       "\n",
       "   favorites  is_retweet  \n",
       "0       6542       False  \n",
       "1      30753       False  \n",
       "2      28610       False  "
      ]
     },
     "execution_count": 5,
     "metadata": {},
     "output_type": "execute_result"
    }
   ],
   "source": [
    "def replace_at_user(text):\n",
    "    pattern = r'@\\w+'\n",
    "    cleaned_text = re.sub(pattern, 'username', text)\n",
    "    return cleaned_text\n",
    "\n",
    "tweets['text'] = tweets['text'].apply(replace_at_user)\n",
    "tweets.head(3)"
   ]
  },
  {
   "cell_type": "markdown",
   "metadata": {},
   "source": [
    "#### Remove stopwords - tokenization"
   ]
  },
  {
   "cell_type": "code",
   "execution_count": 6,
   "metadata": {},
   "outputs": [],
   "source": [
    "stop_words = set(stopwords.words('english'))"
   ]
  },
  {
   "cell_type": "code",
   "execution_count": 7,
   "metadata": {},
   "outputs": [
    {
     "data": {
      "text/html": [
       "<div>\n",
       "<style scoped>\n",
       "    .dataframe tbody tr th:only-of-type {\n",
       "        vertical-align: middle;\n",
       "    }\n",
       "\n",
       "    .dataframe tbody tr th {\n",
       "        vertical-align: top;\n",
       "    }\n",
       "\n",
       "    .dataframe thead th {\n",
       "        text-align: right;\n",
       "    }\n",
       "</style>\n",
       "<table border=\"1\" class=\"dataframe\">\n",
       "  <thead>\n",
       "    <tr style=\"text-align: right;\">\n",
       "      <th></th>\n",
       "      <th>id</th>\n",
       "      <th>user_name</th>\n",
       "      <th>user_description</th>\n",
       "      <th>user_followers</th>\n",
       "      <th>date</th>\n",
       "      <th>text</th>\n",
       "      <th>hashtags</th>\n",
       "      <th>retweets</th>\n",
       "      <th>favorites</th>\n",
       "      <th>is_retweet</th>\n",
       "      <th>nostopwords_text</th>\n",
       "    </tr>\n",
       "  </thead>\n",
       "  <tbody>\n",
       "    <tr>\n",
       "      <th>0</th>\n",
       "      <td>1544379368478212100</td>\n",
       "      <td>Elon Musk</td>\n",
       "      <td>Mars &amp; Cars, Chips &amp; Dips</td>\n",
       "      <td>101240855</td>\n",
       "      <td>2022-07-05 17:55:09+00:00</td>\n",
       "      <td>username I find the gold toe sock inevitably o...</td>\n",
       "      <td>NaN</td>\n",
       "      <td>335</td>\n",
       "      <td>6542</td>\n",
       "      <td>False</td>\n",
       "      <td>[username, I, find, the, gold, toe, sock, inev...</td>\n",
       "    </tr>\n",
       "    <tr>\n",
       "      <th>1</th>\n",
       "      <td>1544377493263720450</td>\n",
       "      <td>Elon Musk</td>\n",
       "      <td>Mars &amp; Cars, Chips &amp; Dips</td>\n",
       "      <td>101240806</td>\n",
       "      <td>2022-07-05 17:47:42+00:00</td>\n",
       "      <td>Sock Con the conference for socks</td>\n",
       "      <td>NaN</td>\n",
       "      <td>1451</td>\n",
       "      <td>30753</td>\n",
       "      <td>False</td>\n",
       "      <td>[Sock, Con, the, conference, for, socks]</td>\n",
       "    </tr>\n",
       "    <tr>\n",
       "      <th>2</th>\n",
       "      <td>1544377130590552064</td>\n",
       "      <td>Elon Musk</td>\n",
       "      <td>Mars &amp; Cars, Chips &amp; Dips</td>\n",
       "      <td>101240806</td>\n",
       "      <td>2022-07-05 17:46:15+00:00</td>\n",
       "      <td>Always something new for the magazine cover an...</td>\n",
       "      <td>NaN</td>\n",
       "      <td>1284</td>\n",
       "      <td>28610</td>\n",
       "      <td>False</td>\n",
       "      <td>[Always, something, new, for, the, magazine, c...</td>\n",
       "    </tr>\n",
       "  </tbody>\n",
       "</table>\n",
       "</div>"
      ],
      "text/plain": [
       "                    id  user_name           user_description  user_followers  \\\n",
       "0  1544379368478212100  Elon Musk  Mars & Cars, Chips & Dips       101240855   \n",
       "1  1544377493263720450  Elon Musk  Mars & Cars, Chips & Dips       101240806   \n",
       "2  1544377130590552064  Elon Musk  Mars & Cars, Chips & Dips       101240806   \n",
       "\n",
       "                        date  \\\n",
       "0  2022-07-05 17:55:09+00:00   \n",
       "1  2022-07-05 17:47:42+00:00   \n",
       "2  2022-07-05 17:46:15+00:00   \n",
       "\n",
       "                                                text hashtags  retweets  \\\n",
       "0  username I find the gold toe sock inevitably o...      NaN       335   \n",
       "1                  Sock Con the conference for socks      NaN      1451   \n",
       "2  Always something new for the magazine cover an...      NaN      1284   \n",
       "\n",
       "   favorites  is_retweet                                   nostopwords_text  \n",
       "0       6542       False  [username, I, find, the, gold, toe, sock, inev...  \n",
       "1      30753       False           [Sock, Con, the, conference, for, socks]  \n",
       "2      28610       False  [Always, something, new, for, the, magazine, c...  "
      ]
     },
     "execution_count": 7,
     "metadata": {},
     "output_type": "execute_result"
    }
   ],
   "source": [
    "def tokenize_text(text):\n",
    "    return word_tokenize(text)\n",
    "\n",
    "# Apply tokenization \n",
    "tweets['nostopwords_text'] = tweets['text'].apply(lambda x: tokenize_text(x))\n",
    "\n",
    "tweets.head(3)"
   ]
  },
  {
   "cell_type": "markdown",
   "metadata": {},
   "source": [
    "#### Words root form - stemming"
   ]
  },
  {
   "cell_type": "code",
   "execution_count": 8,
   "metadata": {},
   "outputs": [
    {
     "name": "stdout",
     "output_type": "stream",
     "text": [
      "original:  username I find the gold toe sock inevitably off kilter amp washed out a little troubling esthetically amp arguably a bit corpo \n",
      " nostopwords_text:  ['username', 'I', 'find', 'the', 'gold', 'toe', 'sock', 'inevitably', 'off', 'kilter', 'amp', 'washed', 'out', 'a', 'little', 'troubling', 'esthetically', 'amp', 'arguably', 'a', 'bit', 'corpo'] \n",
      " rootform_text:  ['usernam', 'i', 'find', 'the', 'gold', 'toe', 'sock', 'inevit', 'off', 'kilter', 'amp', 'wash', 'out', 'a', 'littl', 'troubl', 'esthet', 'amp', 'arguabl', 'a', 'bit', 'corpo']\n"
     ]
    }
   ],
   "source": [
    "ps = PorterStemmer() \n",
    "\n",
    "def clean_and_stem(text):\n",
    "    # Remove non-alphanumeric characters and stem each token\n",
    "    stemmed_tokens = [ps.stem(re.sub(r'[^a-zA-Z0-9]', '', token)) for token in text]\n",
    "    # Remove empty strings\n",
    "    stemmed_tokens = [token for token in stemmed_tokens if token != '']\n",
    "    return stemmed_tokens\n",
    "\n",
    "tweets['rootform_text'] = tweets['nostopwords_text'].apply(clean_and_stem)\n",
    "\n",
    "print(\"original: \", tweets[\"text\"][0], \"\\n\", \"nostopwords_text: \", tweets['nostopwords_text'][0], \"\\n\", \"rootform_text: \",\n",
    "tweets['rootform_text'][0])"
   ]
  },
  {
   "cell_type": "markdown",
   "metadata": {},
   "source": [
    "#### Remove meaningless words"
   ]
  },
  {
   "cell_type": "markdown",
   "metadata": {},
   "source": [
    "For the clustering purpose, we will remove the meaningless words, which will bias our clusters. <br> <br> Nevertheless, we will leave the ***rootform_text*** column for purpose of n-grams part, which will help us to extract more information from the tweets. We will find out in which way we are able to process our text in more informative way. "
   ]
  },
  {
   "cell_type": "code",
   "execution_count": 9,
   "metadata": {},
   "outputs": [],
   "source": [
    "wordlist = []\n",
    "\n",
    "# Iterate over each entry in the 'rootform_text' column and split the text into words\n",
    "for text in tweets['rootform_text']:\n",
    "    wordlist.extend(text)\n",
    "\n",
    "wordfreq = [wordlist.count(w) for w in wordlist]"
   ]
  },
  {
   "cell_type": "code",
   "execution_count": 10,
   "metadata": {},
   "outputs": [
    {
     "data": {
      "text/plain": [
       "[('usernam', 7139),\n",
       " ('the', 1571),\n",
       " ('is', 1297),\n",
       " ('to', 1279),\n",
       " ('a', 1024),\n",
       " ('of', 899),\n",
       " ('it', 687),\n",
       " ('that', 629),\n",
       " ('in', 625),\n",
       " ('thi', 554),\n",
       " ('i', 542),\n",
       " ('be', 542),\n",
       " ('for', 522),\n",
       " ('will', 454),\n",
       " ('twitter', 381),\n",
       " ('on', 381),\n",
       " ('are', 378),\n",
       " ('you', 349),\n",
       " ('but', 333),\n",
       " ('amp', 333),\n",
       " ('not', 321),\n",
       " ('we', 274),\n",
       " ('so', 246),\n",
       " ('as', 245),\n",
       " ('and', 239),\n",
       " ('have', 232),\n",
       " ('with', 223),\n",
       " ('at', 207),\n",
       " ('they', 202),\n",
       " ('good', 200)]"
      ]
     },
     "execution_count": 10,
     "metadata": {},
     "output_type": "execute_result"
    }
   ],
   "source": [
    "# print(\"List of Words:\\n\" + str(wordlist) + \"\\n\")\n",
    "# print(\"Word Frequencies:\\n\" + str(wordfreq) + \"\\n\")\n",
    "\n",
    "# Combine words with their frequencies into pairs and print\n",
    "word_freq_pairs = list(zip(wordlist, wordfreq))\n",
    "distinct_word_freq_pairs = set(word_freq_pairs)\n",
    "sorted_word_freq_pairs = sorted(distinct_word_freq_pairs, key=lambda x: x[1], reverse=True)\n",
    "# print(\"Word-Frequency Pairs:\\n\" + str(sorted_word_freq_pairs))\n",
    "\n",
    "sorted_word_freq_pairs[:30]"
   ]
  },
  {
   "cell_type": "code",
   "execution_count": 11,
   "metadata": {},
   "outputs": [],
   "source": [
    "stopwords_list = [\"the\", \"is\", \"to\", \"a\", \"of\", \"it\", \"that\", \"in\", \"thi\", \"i\", \"be\", \"for\", \"will\", \"on\", \"are\", \"you\", \"but\", \"not\", \"we\", \"so\", \"as\", \"and\", \"have\", \"with\", \"at\", \"they\", \"wa\", \"do\", \"if\", \"should\", \"what\", \"your\", \"an\", \"true\", \"just\", \"all\", \"like\", \"there\", \"by\", \"from\", \"they\", \"my\", \"ha\", \"no\", \"make\", \"me\", \"or\", \"can\", \"then\", \"then\", \"about\", \"much\", \"mani\", \"too\", \"would\", \"one\", \"were\", \"out\", \"who\", \"lot\", \"good\", \"im\", \"yeah\", \"good\", \"cool\", \"awesom\", \"usernam\", \"thank\", \"look\", \"agre\", \"amp\", \"veri\", \"need\", \"accur\", \"absolut\", \"great\", \"exactli\", \"ftw\", \"ftx\", \"franc\", \"fro\", \"come\", \"allow\", \"jan\", \"fsd\", \"need\", \"tini\", \"entir\", \"empti\",\"major\", \"day\", \"addit\", \"ga\", \"gain\", \"nice\", \"right\", \"actual\", \"pleas\"]\n",
    "\n",
    "# Function to remove custom stopwords\n",
    "def remove_custom_stopwords(words):\n",
    "    # Keep only the words that are not in the custom_stopwords list\n",
    "    filtered_words = [word for word in words if word.lower() not in stopwords_list]\n",
    "    return filtered_words\n",
    "\n",
    "# Apply the remove_custom_stopwords function to the 'nostopwords_text' column\n",
    "tweets['nostopwords_rootform_text'] = tweets['rootform_text'].apply(remove_custom_stopwords)\n"
   ]
  },
  {
   "cell_type": "markdown",
   "metadata": {},
   "source": [
    "### Let's explain some popular words which are not clear:\n",
    "- \"amp\" - ain't my problem\n",
    "- \"wa\" - was\n",
    "- username - profile on twitter, that the authow tagged"
   ]
  },
  {
   "cell_type": "markdown",
   "metadata": {},
   "source": [
    "Let's see how the words are classified without the stopwords"
   ]
  },
  {
   "cell_type": "code",
   "execution_count": 12,
   "metadata": {},
   "outputs": [],
   "source": [
    "wordlist = []\n",
    "\n",
    "# Iterate over each entry in the 'rootform_text' column and split the text into words\n",
    "for text in tweets['nostopwords_rootform_text']:\n",
    "    wordlist.extend(text)"
   ]
  },
  {
   "cell_type": "code",
   "execution_count": 13,
   "metadata": {},
   "outputs": [],
   "source": [
    "wordfreq = [wordlist.count(w) for w in wordlist]"
   ]
  },
  {
   "cell_type": "code",
   "execution_count": 14,
   "metadata": {},
   "outputs": [
    {
     "data": {
      "text/plain": [
       "[('twitter', 381),\n",
       " ('time', 168),\n",
       " ('peopl', 165),\n",
       " ('more', 158),\n",
       " ('work', 149),\n",
       " ('tesla', 137),\n",
       " ('than', 122),\n",
       " ('now', 114),\n",
       " ('interest', 108),\n",
       " ('account', 104),\n",
       " ('get', 103),\n",
       " ('use', 102),\n",
       " ('tweet', 100),\n",
       " ('most', 100),\n",
       " ('their', 98),\n",
       " ('some', 97),\n",
       " ('year', 97),\n",
       " ('he', 94),\n",
       " ('other', 90),\n",
       " ('how', 85),\n",
       " ('go', 81),\n",
       " ('up', 81),\n",
       " ('even', 79),\n",
       " ('when', 78),\n",
       " ('still', 77),\n",
       " ('week', 77),\n",
       " ('real', 77),\n",
       " ('say', 75),\n",
       " ('dont', 74),\n",
       " ('thing', 73)]"
      ]
     },
     "execution_count": 14,
     "metadata": {},
     "output_type": "execute_result"
    }
   ],
   "source": [
    "# print(\"List of Words:\\n\" + str(wordlist) + \"\\n\")\n",
    "# print(\"Word Frequencies:\\n\" + str(wordfreq) + \"\\n\")\n",
    "\n",
    "word_freq_pairs = list(zip(wordlist, wordfreq))\n",
    "distinct_word_freq_pairs = set(word_freq_pairs)\n",
    "sorted_word_freq_pairs = sorted(distinct_word_freq_pairs, key=lambda x: x[1], reverse=True)\n",
    "# print(\"Word-Frequency Pairs:\\n\" + str(sorted_word_freq_pairs))\n",
    "\n",
    "sorted_word_freq_pairs[:30]"
   ]
  },
  {
   "cell_type": "markdown",
   "metadata": {},
   "source": [
    "***Comment:*** <br> At this point we have two important for future analysis columns with a text: nostopwords_rootform_text and rootform_text. We should keep both of them, since clustering will be more informative based on the nostopwords_rootform_text, where we skipped most frequent and least informative words (referred to as stopwords), but rootform_text after seeking for n-grams will be usefull for the knowlegde extraction. It is not clear at this stage, which column will be used for sentiment analysis."
   ]
  },
  {
   "cell_type": "markdown",
   "metadata": {},
   "source": [
    "# 2. EDA"
   ]
  },
  {
   "cell_type": "markdown",
   "metadata": {},
   "source": [
    "We kept the words which can help us to drag any conclusions."
   ]
  },
  {
   "cell_type": "code",
   "execution_count": 15,
   "metadata": {},
   "outputs": [
    {
     "data": {
      "image/png": "[encoded data removed]",
      "text/plain": [
       "<Figure size 1000x600 with 1 Axes>"
      ]
     },
     "metadata": {},
     "output_type": "display_data"
    }
   ],
   "source": [
    "# Extract the top 10 words and their frequencies for plotting\n",
    "top_words = [pair[0] for pair in sorted_word_freq_pairs[:10]]\n",
    "top_freqs = [pair[1] for pair in sorted_word_freq_pairs[:10]]\n",
    "\n",
    "# Plot the bar chart\n",
    "plt.figure(figsize=(10, 6))\n",
    "plt.barh(top_words, top_freqs, color='skyblue')\n",
    "plt.xlabel('Frequency')\n",
    "plt.ylabel('Word')\n",
    "plt.title('Top 10 Most Frequent Words')\n",
    "plt.gca().invert_yaxis()  # Invert y-axis to display the most frequent word at the top\n",
    "plt.show()\n"
   ]
  },
  {
   "cell_type": "code",
   "execution_count": 16,
   "metadata": {},
   "outputs": [
    {
     "data": {
      "text/plain": [
       "array(['Mars & Cars, Chips & Dips', nan, 'Perfume Salesman', 'Chief Twit',\n",
       "       'Twitter Complaint Hotline Operator', 'State-Affiliated Media',\n",
       "       'nothing', 'handsome/brilliant'], dtype=object)"
      ]
     },
     "execution_count": 16,
     "metadata": {},
     "output_type": "execute_result"
    }
   ],
   "source": [
    "distinct_user_description = tweets['user_description'].unique()\n",
    "distinct_user_description"
   ]
  },
  {
   "cell_type": "code",
   "execution_count": 17,
   "metadata": {},
   "outputs": [
    {
     "data": {
      "text/plain": [
       "array(['Elon Musk', 'Mr. Tweet'], dtype=object)"
      ]
     },
     "execution_count": 17,
     "metadata": {},
     "output_type": "execute_result"
    }
   ],
   "source": [
    "distinct_user_name = tweets['user_name'].unique()\n",
    "distinct_user_name"
   ]
  },
  {
   "cell_type": "code",
   "execution_count": 18,
   "metadata": {},
   "outputs": [
    {
     "data": {
      "text/plain": [
       "array([nan, \"['FreeSpeech']\", \"['deletefacebook']\"], dtype=object)"
      ]
     },
     "execution_count": 18,
     "metadata": {},
     "output_type": "execute_result"
    }
   ],
   "source": [
    "distinct_hashtags = tweets['hashtags'].unique()\n",
    "distinct_hashtags"
   ]
  },
  {
   "cell_type": "markdown",
   "metadata": {},
   "source": [
    "# 3. Clustering"
   ]
  },
  {
   "cell_type": "code",
   "execution_count": 19,
   "metadata": {},
   "outputs": [],
   "source": [
    "from sklearn.cluster import MiniBatchKMeans\n",
    "from sklearn.feature_extraction.text import TfidfVectorizer\n",
    "from sklearn.decomposition import PCA\n",
    "from sklearn.manifold import TSNE\n",
    "\n",
    "import matplotlib.cm as cm\n"
   ]
  },
  {
   "cell_type": "code",
   "execution_count": 20,
   "metadata": {},
   "outputs": [
    {
     "data": {
      "text/html": [
       "<div>\n",
       "<style scoped>\n",
       "    .dataframe tbody tr th:only-of-type {\n",
       "        vertical-align: middle;\n",
       "    }\n",
       "\n",
       "    .dataframe tbody tr th {\n",
       "        vertical-align: top;\n",
       "    }\n",
       "\n",
       "    .dataframe thead th {\n",
       "        text-align: right;\n",
       "    }\n",
       "</style>\n",
       "<table border=\"1\" class=\"dataframe\">\n",
       "  <thead>\n",
       "    <tr style=\"text-align: right;\">\n",
       "      <th></th>\n",
       "      <th>id</th>\n",
       "      <th>user_name</th>\n",
       "      <th>user_description</th>\n",
       "      <th>user_followers</th>\n",
       "      <th>date</th>\n",
       "      <th>text</th>\n",
       "      <th>hashtags</th>\n",
       "      <th>retweets</th>\n",
       "      <th>favorites</th>\n",
       "      <th>is_retweet</th>\n",
       "      <th>nostopwords_text</th>\n",
       "      <th>rootform_text</th>\n",
       "      <th>nostopwords_rootform_text</th>\n",
       "      <th>nostopwords_rootform_text_str</th>\n",
       "    </tr>\n",
       "  </thead>\n",
       "  <tbody>\n",
       "    <tr>\n",
       "      <th>0</th>\n",
       "      <td>1544379368478212100</td>\n",
       "      <td>Elon Musk</td>\n",
       "      <td>Mars &amp; Cars, Chips &amp; Dips</td>\n",
       "      <td>101240855</td>\n",
       "      <td>2022-07-05 17:55:09+00:00</td>\n",
       "      <td>username I find the gold toe sock inevitably o...</td>\n",
       "      <td>NaN</td>\n",
       "      <td>335</td>\n",
       "      <td>6542</td>\n",
       "      <td>False</td>\n",
       "      <td>[username, I, find, the, gold, toe, sock, inev...</td>\n",
       "      <td>[usernam, i, find, the, gold, toe, sock, inevi...</td>\n",
       "      <td>[find, gold, toe, sock, inevit, off, kilter, w...</td>\n",
       "      <td>find gold toe sock inevit off kilter wash litt...</td>\n",
       "    </tr>\n",
       "    <tr>\n",
       "      <th>1</th>\n",
       "      <td>1544377493263720450</td>\n",
       "      <td>Elon Musk</td>\n",
       "      <td>Mars &amp; Cars, Chips &amp; Dips</td>\n",
       "      <td>101240806</td>\n",
       "      <td>2022-07-05 17:47:42+00:00</td>\n",
       "      <td>Sock Con the conference for socks</td>\n",
       "      <td>NaN</td>\n",
       "      <td>1451</td>\n",
       "      <td>30753</td>\n",
       "      <td>False</td>\n",
       "      <td>[Sock, Con, the, conference, for, socks]</td>\n",
       "      <td>[sock, con, the, confer, for, sock]</td>\n",
       "      <td>[sock, con, confer, sock]</td>\n",
       "      <td>sock con confer sock</td>\n",
       "    </tr>\n",
       "    <tr>\n",
       "      <th>2</th>\n",
       "      <td>1544377130590552064</td>\n",
       "      <td>Elon Musk</td>\n",
       "      <td>Mars &amp; Cars, Chips &amp; Dips</td>\n",
       "      <td>101240806</td>\n",
       "      <td>2022-07-05 17:46:15+00:00</td>\n",
       "      <td>Always something new for the magazine cover an...</td>\n",
       "      <td>NaN</td>\n",
       "      <td>1284</td>\n",
       "      <td>28610</td>\n",
       "      <td>False</td>\n",
       "      <td>[Always, something, new, for, the, magazine, c...</td>\n",
       "      <td>[alway, someth, new, for, the, magazin, cover,...</td>\n",
       "      <td>[alway, someth, new, magazin, cover, articl, p...</td>\n",
       "      <td>alway someth new magazin cover articl practic ...</td>\n",
       "    </tr>\n",
       "  </tbody>\n",
       "</table>\n",
       "</div>"
      ],
      "text/plain": [
       "                    id  user_name           user_description  user_followers  \\\n",
       "0  1544379368478212100  Elon Musk  Mars & Cars, Chips & Dips       101240855   \n",
       "1  1544377493263720450  Elon Musk  Mars & Cars, Chips & Dips       101240806   \n",
       "2  1544377130590552064  Elon Musk  Mars & Cars, Chips & Dips       101240806   \n",
       "\n",
       "                        date  \\\n",
       "0  2022-07-05 17:55:09+00:00   \n",
       "1  2022-07-05 17:47:42+00:00   \n",
       "2  2022-07-05 17:46:15+00:00   \n",
       "\n",
       "                                                text hashtags  retweets  \\\n",
       "0  username I find the gold toe sock inevitably o...      NaN       335   \n",
       "1                  Sock Con the conference for socks      NaN      1451   \n",
       "2  Always something new for the magazine cover an...      NaN      1284   \n",
       "\n",
       "   favorites  is_retweet                                   nostopwords_text  \\\n",
       "0       6542       False  [username, I, find, the, gold, toe, sock, inev...   \n",
       "1      30753       False           [Sock, Con, the, conference, for, socks]   \n",
       "2      28610       False  [Always, something, new, for, the, magazine, c...   \n",
       "\n",
       "                                       rootform_text  \\\n",
       "0  [usernam, i, find, the, gold, toe, sock, inevi...   \n",
       "1                [sock, con, the, confer, for, sock]   \n",
       "2  [alway, someth, new, for, the, magazin, cover,...   \n",
       "\n",
       "                           nostopwords_rootform_text  \\\n",
       "0  [find, gold, toe, sock, inevit, off, kilter, w...   \n",
       "1                          [sock, con, confer, sock]   \n",
       "2  [alway, someth, new, magazin, cover, articl, p...   \n",
       "\n",
       "                       nostopwords_rootform_text_str  \n",
       "0  find gold toe sock inevit off kilter wash litt...  \n",
       "1                               sock con confer sock  \n",
       "2  alway someth new magazin cover articl practic ...  "
      ]
     },
     "execution_count": 20,
     "metadata": {},
     "output_type": "execute_result"
    }
   ],
   "source": [
    "tweets['nostopwords_rootform_text_str'] = tweets['nostopwords_rootform_text'].apply(lambda x: ' '.join(x))\n",
    "tweets.head(3)"
   ]
  },
  {
   "cell_type": "code",
   "execution_count": 21,
   "metadata": {},
   "outputs": [],
   "source": [
    "# Tf idf\n",
    "tfidf = TfidfVectorizer(\n",
    "    min_df = 0.00001,\n",
    "    max_df = 0.95,\n",
    "    max_features = 3000,\n",
    "    stop_words = 'english'\n",
    ")\n",
    "tfidf.fit(tweets['nostopwords_rootform_text_str'])\n",
    "tfidf_text = tfidf.transform(tweets['nostopwords_rootform_text_str'])"
   ]
  },
  {
   "cell_type": "code",
   "execution_count": 22,
   "metadata": {},
   "outputs": [
    {
     "name": "stdout",
     "output_type": "stream",
     "text": [
      "Fit 2 clusters\n",
      "Fit 4 clusters\n",
      "Fit 6 clusters\n",
      "Fit 8 clusters\n",
      "Fit 10 clusters\n",
      "Fit 12 clusters\n",
      "Fit 14 clusters\n",
      "Fit 16 clusters\n",
      "Fit 18 clusters\n",
      "Fit 20 clusters\n"
     ]
    },
    {
     "data": {
      "image/png": "[encoded data removed]",
      "text/plain": [
       "<Figure size 640x480 with 1 Axes>"
      ]
     },
     "metadata": {},
     "output_type": "display_data"
    }
   ],
   "source": [
    "def optimal_clusters(data, max_k):\n",
    "    iters = range(2, max_k+1, 2)\n",
    "    \n",
    "    sse = []\n",
    "    for k in iters:\n",
    "        sse.append(MiniBatchKMeans(n_clusters=k, init_size=1024, batch_size=2048, random_state=20).fit(data).inertia_)\n",
    "        print('Fit {} clusters'.format(k))\n",
    "        \n",
    "    f, ax = plt.subplots(1, 1)\n",
    "    ax.plot(iters, sse, marker='o')\n",
    "    ax.set_xlabel('Cluster Centers')\n",
    "    ax.set_xticks(iters)\n",
    "    ax.set_xticklabels(iters)\n",
    "    ax.set_ylabel('SSE')\n",
    "    ax.set_title('SSE by Cluster Center Plot')\n",
    "    \n",
    "optimal_clusters(tfidf_text, 20)"
   ]
  },
  {
   "cell_type": "code",
   "execution_count": 23,
   "metadata": {},
   "outputs": [],
   "source": [
    "# set k to 6\n",
    "clusters = MiniBatchKMeans(n_clusters=6, init_size=1024, batch_size=2048, random_state=20).fit_predict(tfidf_text)"
   ]
  },
  {
   "cell_type": "code",
   "execution_count": 24,
   "metadata": {},
   "outputs": [
    {
     "data": {
      "image/png": "[encoded data removed]",
      "text/plain": [
       "<Figure size 1400x600 with 2 Axes>"
      ]
     },
     "metadata": {},
     "output_type": "display_data"
    }
   ],
   "source": [
    "def plot_tsne_pca(data, labels):\n",
    "    max_label = max(labels)\n",
    "    max_items = np.random.choice(range(data.shape[0]), size=3000, replace=False)\n",
    "    \n",
    "    data_array = np.asarray(data[max_items, :].todense())  # Convert matrix to array\n",
    "    pca = PCA(n_components=2).fit_transform(data_array)\n",
    "    tsne = TSNE().fit_transform(PCA(n_components=50).fit_transform(data_array))\n",
    "    \n",
    "    idx = np.random.choice(range(pca.shape[0]), size=300, replace=False)\n",
    "    label_subset = labels[max_items]\n",
    "    label_subset = [cm.hsv(i / max_label) for i in label_subset[idx]]\n",
    "    \n",
    "    f, ax = plt.subplots(1, 2, figsize=(14, 6))\n",
    "    \n",
    "    ax[0].scatter(pca[idx, 0], pca[idx, 1], c=label_subset)\n",
    "    ax[0].set_title('PCA Cluster Plot')\n",
    "    \n",
    "    ax[1].scatter(tsne[idx, 0], tsne[idx, 1], c=label_subset)\n",
    "    ax[1].set_title('TSNE Cluster Plot')\n",
    "\n",
    "plot_tsne_pca(tfidf_text, clusters)"
   ]
  },
  {
   "cell_type": "code",
   "execution_count": 25,
   "metadata": {},
   "outputs": [
    {
     "name": "stdout",
     "output_type": "stream",
     "text": [
      "\n",
      "Cluster 0\n",
      "futil,futur,fwiw,gainoffunct,galaxi,game,gamechang,gap,fuel,fruit,use,matter,energi,comput,unit\n",
      "\n",
      "Cluster 1\n",
      "way,everyth,fun,wors,step,tough,miss,complet,ancient,work,chang,live,happen,everi,time\n",
      "\n",
      "Cluster 2\n",
      "week,lol,mayb,account,tweet,correct,year,real,time,concern,question,tesla,peopl,work,twitter\n",
      "\n",
      "Cluster 3\n",
      "wow,free,bot,doe,yike,engin,tbh,civil,futur,ai,oh,alway,inde,import,thread\n",
      "\n",
      "Cluster 4\n",
      "fundament,futur,fwiw,gainoffunct,galaxi,game,gamechang,gap,futil,zone,say,theyr,tell,command,obey\n",
      "\n",
      "Cluster 5\n",
      "someth,platform,hear,space,fine,wellsaid,fals,let,love,list,word,definit,best,welcom,starlink\n"
     ]
    }
   ],
   "source": [
    "# top keywords based on their TFIDF score to see if we can spot any trends\n",
    "def get_top_keywords(data, clusters, labels, n_terms):\n",
    "    df = pd.DataFrame(data.todense()).groupby(clusters).mean()\n",
    "    \n",
    "    for i,r in df.iterrows():\n",
    "        print('\\nCluster {}'.format(i))\n",
    "        print(','.join([labels[t] for t in np.argsort(r)[-n_terms:]]))\n",
    "            \n",
    "get_top_keywords(tfidf_text, clusters, tfidf.get_feature_names_out(), 15)"
   ]
  },
  {
   "cell_type": "markdown",
   "metadata": {},
   "source": [
    "***Comment:*** We observe that the clustering is not the best idea in case of multiple acronyms, slang or proper names."
   ]
  },
  {
   "cell_type": "markdown",
   "metadata": {},
   "source": [
    "# 4. NER"
   ]
  },
  {
   "cell_type": "code",
   "execution_count": 26,
   "metadata": {},
   "outputs": [
    {
     "name": "stderr",
     "output_type": "stream",
     "text": [
      "[nltk_data] Downloading package averaged_perceptron_tagger to\n",
      "[nltk_data]     C:\\Users\\karla\\AppData\\Roaming\\nltk_data...\n",
      "[nltk_data]   Package averaged_perceptron_tagger is already up-to-\n",
      "[nltk_data]       date!\n"
     ]
    },
    {
     "data": {
      "text/plain": [
       "True"
      ]
     },
     "execution_count": 26,
     "metadata": {},
     "output_type": "execute_result"
    }
   ],
   "source": [
    "import nltk\n",
    "from nltk.tag import pos_tag\n",
    "from collections import Counter\n",
    "from collections import defaultdict\n",
    "\n",
    "nltk.download('averaged_perceptron_tagger')"
   ]
  },
  {
   "cell_type": "code",
   "execution_count": 27,
   "metadata": {},
   "outputs": [
    {
     "data": {
      "text/plain": [
       "[('usernam', 'JJ'),\n",
       " ('i', 'NN'),\n",
       " ('find', 'VBP'),\n",
       " ('the', 'DT'),\n",
       " ('gold', 'NN'),\n",
       " ('toe', 'NN'),\n",
       " ('sock', 'NN'),\n",
       " ('inevit', 'NN'),\n",
       " ('off', 'IN'),\n",
       " ('kilter', 'NN')]"
      ]
     },
     "execution_count": 27,
     "metadata": {},
     "output_type": "execute_result"
    }
   ],
   "source": [
    "wordlist2 = []\n",
    "\n",
    "# Iterate over each entry in the 'rootform_text' column and split the text into words\n",
    "for text in tweets['rootform_text']:\n",
    "    wordlist2.extend(text)\n",
    "\n",
    "# Tagging\n",
    "wordlist2 = nltk.pos_tag(wordlist2)\n",
    "wordlist2[:10]"
   ]
  },
  {
   "cell_type": "code",
   "execution_count": 28,
   "metadata": {},
   "outputs": [],
   "source": [
    "# spaCy English model\n",
    "nlp = spacy.load('en_core_web_sm')"
   ]
  },
  {
   "cell_type": "code",
   "execution_count": 29,
   "metadata": {},
   "outputs": [
    {
     "name": "stdout",
     "output_type": "stream",
     "text": [
      "Counter({'ORG': 1013, 'PERSON': 821, 'DATE': 440, 'CARDINAL': 378, 'GPE': 357, 'PRODUCT': 221, 'NORP': 160, 'LOC': 99, 'TIME': 55, 'ORDINAL': 42, 'WORK_OF_ART': 29, 'QUANTITY': 19, 'EVENT': 17, 'FAC': 14, 'LAW': 10, 'LANGUAGE': 9, 'MONEY': 7, 'PERCENT': 2})\n"
     ]
    }
   ],
   "source": [
    "label_counts = Counter()\n",
    "\n",
    "# Iterate over each tweet in the DataFrame\n",
    "for tweet in tweets['text']:\n",
    "    doc = nlp(tweet)\n",
    "    labels = [ent.label_ for ent in doc.ents]\n",
    "    label_counts.update(labels)\n",
    "\n",
    "print(label_counts)"
   ]
  },
  {
   "cell_type": "code",
   "execution_count": 30,
   "metadata": {},
   "outputs": [
    {
     "name": "stdout",
     "output_type": "stream",
     "text": [
      "Entity Category: DATE\n",
      "['these days', 'later this year', 'recent months', '4680', '1013', 'tomorrow', 'next week', 'next month', 'this year', 'next month', '20 to 30 years', 'next httpstcoaQbFmsHDGn', '70s', '16 years ago', 'next month', 'yesterday', 'past year', 'this year', 'today', 'yesterday']\n",
      "\n",
      "Entity Category: PERSON\n",
      "['Moon', 'Flatulence Earther', 'Zip', 'Teslas', 'Tesla', 'Mark', 'Mike Duncan', 'Kids', 'Teslas', 'httpstcoI8l3STHVcY', 'httpstcoy4RBNuJ5Rs', 'Join', 'rem httpstcoB25WNIWBpO', 'Tesla', 'Write', 'Charlie Ergen', 'Demo', 'Austin', 'Teslas', 'Tbh']\n",
      "\n",
      "Entity Category: CARDINAL\n",
      "['69', 'zero', '10', 'One', 'about 3', '82', 'httpstco5H34xXlmVV', '2', '12GHz', '100k', '78', 'One', 'About 1000', '2', '1', '36', 'zero', '1000', 'two', 'millions']\n",
      "\n",
      "Entity Category: LOC\n",
      "['Mars', 'Mars', 'Earth', 'Mars', 'Earth', 'Mars', 'Magellanic Clouds', 'Earth', 'Mars', 'Earth', 'Earth', 'the moon', 'Intergalactic', 'Earth', 'Earth', 'Mars', 'Earth', 'Mars', 'these Mars Bars', 'North America']\n",
      "\n",
      "Entity Category: PRODUCT\n",
      "['Twitter', 'A Minute Doc Are You Telling Me You Built A Time MachineOut', 'httpstcosN4gDLTIW9', 'Cryogenic', 'Das Boot\\nDas Baby Hijinks', 'Unfortuna httpstcoL7oLe5l6VE', 'Twitter', 'httpstcoLANla7n2yr', '400k', 'Hyperloop', 'httpstcogg6CjgQ1XS', 'httpstcotWKMmiy5dX', 'Diet Coke', '100k', 'Solar', '100k', 'Stripe', 'Car', 'Optimus', '747 Epic']\n",
      "\n",
      "Entity Category: GPE\n",
      "['Vegas', 'httpstcoBQujU8Ngna', 'Revolutions', 'Tokyo', 'Osaka', 'China', 'Japan', 'Beijing', 'httpstcoZqQNOLHCdN', 'china', 'httpstco59uJAjy5Sj', 'ppmgt1000', 'Fremont', 'California', 'httpstcown7vg2mUjr', 'Accurate', 'California', 'Floki', 'Vikings', 'Destiny']\n",
      "\n",
      "Entity Category: ORG\n",
      "['Orwell', 'Terracotta Army', 'the Universe Clams', 'Chuckmate', 'YouTube', 'Trump', 'Trump', 'Team', 'Ancient', 'Go Pros', 'MSNBC', 'Electric', 'Cumulative', 'Tesla', 'Starlink', 'httpstcoqFSJGIFsAY', 'Starlink', 'Giga Nevada', 'Tesla Fremont Giga Nevada', 'Tesla']\n",
      "\n",
      "Entity Category: NORP\n",
      "['Xian', 'Tesla', 'Consciousness', 'American', 'Dems', 'httpstcoanGjQKbq5W', 'Model X', 'Congrats', 'Congrats', 'Stone', 'Twitter', 'httpstcoLCDpOeIei5', 'httpstco74aqxcAkz4', 'Tesla', 'polish', 'Chess', 'Realworld', 'Iranian', 'Victorian', 'Optimus']\n",
      "\n",
      "Entity Category: TIME\n",
      "['3 hours', 'night', 'tonight', 'afternoon', 'last night', 'morning', 'later today', 'last night', 'morning', 'about an hour', 'less than 24 hours', 'tonight', 'tonight', '7 hours', 'less than 30 minutes', 'several hours', 'late Thursday night w', '30 seconds', 'a second', 'tonight']\n",
      "\n",
      "Entity Category: ORDINAL\n",
      "['Fifth', 'first', 'first', 'second', 'First', '48th', 'first', 'first', 'first', 'second', 'second', '3rd', '1st', 'first', 'First', 'first', 'Second', 'second', 'First', 'first']\n",
      "\n",
      "Entity Category: WORK_OF_ART\n",
      "['Rereading The Life of Greece', 'Caught', 'Death o httpstco9Cfft6Co7b', 'Starlink', 'Smart Maybe \\nDoes', 'The Current Thing', 'The Current Thing\\nReal', 'Headline Stephen King Tweet Causes', 'Love Speech', 'PhD', 'Nature', 'Cyberpunk Elden Ring', 'Master the Future', 'Mr Tweet now', 'PvP', 'Mr Tweet', 'Twilight', 'Funnybot', 'List for specific a httpstcoxC7RKzv9Bu', 'Nature']\n",
      "\n",
      "Entity Category: QUANTITY\n",
      "['2 millionth', '500 mile', '17 metric tons', '10 meters', 'billions of miles', '300 Mps', '174 mph', '144 trillion', '500 mile', '500 mile', '1cm or', '2cm', 'around 400 tons', '4 m httpstcoA4PCWmgk6y', 'only 3 inches', '1000 gallons', '269 tons', '4500 paxhr', '250 to 300 tons']\n",
      "\n",
      "Entity Category: FAC\n",
      "['Giga Berlin', 'httpstcodNokhusMAA', 'Twitters', 'Twitter', 'Twitters', 'Skyrocket Lmaooo', 'Obam', 'Carbs', '44B', 'Incandescent', 'Starlink V2', 'the Golden State', 'the moon amp city', 'Shannon']\n",
      "\n",
      "Entity Category: EVENT\n",
      "['AI Day', 'AI Day', 'Falcon 9', 'First World Cup', 'World Cup', 'World Cup', 'World Cup', 'World Cup', 'World Cup', 'Game of Year httpstcoTMyHVbrZKW', 'World Cup', 'World Cup\\n ', 'World Cup', 'The World Cup', 'World Cup', 'Twitter HQ past midnight Very long day', 'Valentines Day']\n",
      "\n",
      "Entity Category: LAW\n",
      "['Falcon 9', 'the Constitutions First Amendment', 'Constitution', 'httpstcox7XVS4brIq', 'The Drone Wars', 'First Amendment', 'Constitution', 'Inflation Reduction Act', 'Falcon 9 necessitating', 'Constitution']\n",
      "\n",
      "Entity Category: PERCENT\n",
      "['2012 Blue', 'between 4chan httpstcoaMDkXVOoD6']\n",
      "\n",
      "Entity Category: MONEY\n",
      "['billions of bidirectional', 'billion dollar', 'almost 90 billion tweet', 'millions of dollars', 'tens of billions', 'Million dollar', '138 billion']\n",
      "\n",
      "Entity Category: LANGUAGE\n",
      "['English', 'Tweet', 'Beauty', 'geese', 'English', 'English', 'httpstcoZUUY1szjUD', 'Twitter', 'httpstcoixnlIDDhPy']\n",
      "\n"
     ]
    }
   ],
   "source": [
    "# Initialize a defaultdict to store examples for each entity category\n",
    "entity_examples = defaultdict(list)\n",
    "\n",
    "for tweet in tweets['text']:\n",
    "\n",
    "    doc = nlp(tweet)\n",
    "    for ent in doc.ents:\n",
    "        entity_examples[ent.label_].append(ent.text)\n",
    "        \n",
    "for label, examples in entity_examples.items():\n",
    "    print(f'Entity Category: {label}')\n",
    "    print(examples[:20])  # Print up to 10 examples for each category\n",
    "    print()"
   ]
  },
  {
   "cell_type": "markdown",
   "metadata": {},
   "source": [
    "**Comment:** Though this model we can conclude that the most frequently reffered entities are: <br>\n",
    "- ORG (1013) - we observe both political figures and businesses\n",
    "- PERSON (821) - references to Tesla or some groups of people with specific beliefs\n",
    "- DATE (440) - in our case, the dates may refer to the current events, news (political, technological)\n",
    "- CARDINAL (378) - another instance and confirmation of news/statistics existance in the posts\n",
    "- GPE (357) - mentioning of the Geopolitical Entities suggests engagement in business geographical development or geopolitics \n",
    "- NORP (160) - it is Nationalities or Religious or Political Groups, which is most straightforward confirmation of the hypothesis\n",
    "- LOC (99) - supposingly related to Elon's investments in space exploration"
   ]
  },
  {
   "cell_type": "markdown",
   "metadata": {},
   "source": [
    "# 5. Topic modelling"
   ]
  },
  {
   "cell_type": "markdown",
   "metadata": {},
   "source": [
    "#### 5.1 Non-Negative Matrix Factorization"
   ]
  },
  {
   "cell_type": "markdown",
   "metadata": {},
   "source": [
    "Let's try on rootfor_text (withstopwords)."
   ]
  },
  {
   "cell_type": "code",
   "execution_count": 31,
   "metadata": {},
   "outputs": [],
   "source": [
    "tweets['rootform_text_str'] = tweets['rootform_text'].apply(lambda x: ' '.join(x))\n",
    "tweets.head(3)\n",
    "\n",
    "tfidf_root = TfidfVectorizer(\n",
    "    min_df = 0.00001,\n",
    "    max_df = 0.95,\n",
    "    max_features = 3000,\n",
    "    stop_words = 'english'\n",
    ")\n",
    "\n",
    "tfidf_text_root = tfidf_root.fit_transform(tweets['rootform_text_str'].values.astype('U'))"
   ]
  },
  {
   "cell_type": "code",
   "execution_count": 32,
   "metadata": {},
   "outputs": [
    {
     "data": {
      "text/html": [
       "<style>#sk-container-id-1 {color: black;}#sk-container-id-1 pre{padding: 0;}#sk-container-id-1 div.sk-toggleable {background-color: white;}#sk-container-id-1 label.sk-toggleable__label {cursor: pointer;display: block;width: 100%;margin-bottom: 0;padding: 0.3em;box-sizing: border-box;text-align: center;}#sk-container-id-1 label.sk-toggleable__label-arrow:before {content: \"▸\";float: left;margin-right: 0.25em;color: #696969;}#sk-container-id-1 label.sk-toggleable__label-arrow:hover:before {color: black;}#sk-container-id-1 div.sk-estimator:hover label.sk-toggleable__label-arrow:before {color: black;}#sk-container-id-1 div.sk-toggleable__content {max-height: 0;max-width: 0;overflow: hidden;text-align: left;background-color: #f0f8ff;}#sk-container-id-1 div.sk-toggleable__content pre {margin: 0.2em;color: black;border-radius: 0.25em;background-color: #f0f8ff;}#sk-container-id-1 input.sk-toggleable__control:checked~div.sk-toggleable__content {max-height: 200px;max-width: 100%;overflow: auto;}#sk-container-id-1 input.sk-toggleable__control:checked~label.sk-toggleable__label-arrow:before {content: \"▾\";}#sk-container-id-1 div.sk-estimator input.sk-toggleable__control:checked~label.sk-toggleable__label {background-color: #d4ebff;}#sk-container-id-1 div.sk-label input.sk-toggleable__control:checked~label.sk-toggleable__label {background-color: #d4ebff;}#sk-container-id-1 input.sk-hidden--visually {border: 0;clip: rect(1px 1px 1px 1px);clip: rect(1px, 1px, 1px, 1px);height: 1px;margin: -1px;overflow: hidden;padding: 0;position: absolute;width: 1px;}#sk-container-id-1 div.sk-estimator {font-family: monospace;background-color: #f0f8ff;border: 1px dotted black;border-radius: 0.25em;box-sizing: border-box;margin-bottom: 0.5em;}#sk-container-id-1 div.sk-estimator:hover {background-color: #d4ebff;}#sk-container-id-1 div.sk-parallel-item::after {content: \"\";width: 100%;border-bottom: 1px solid gray;flex-grow: 1;}#sk-container-id-1 div.sk-label:hover label.sk-toggleable__label {background-color: #d4ebff;}#sk-container-id-1 div.sk-serial::before {content: \"\";position: absolute;border-left: 1px solid gray;box-sizing: border-box;top: 0;bottom: 0;left: 50%;z-index: 0;}#sk-container-id-1 div.sk-serial {display: flex;flex-direction: column;align-items: center;background-color: white;padding-right: 0.2em;padding-left: 0.2em;position: relative;}#sk-container-id-1 div.sk-item {position: relative;z-index: 1;}#sk-container-id-1 div.sk-parallel {display: flex;align-items: stretch;justify-content: center;background-color: white;position: relative;}#sk-container-id-1 div.sk-item::before, #sk-container-id-1 div.sk-parallel-item::before {content: \"\";position: absolute;border-left: 1px solid gray;box-sizing: border-box;top: 0;bottom: 0;left: 50%;z-index: -1;}#sk-container-id-1 div.sk-parallel-item {display: flex;flex-direction: column;z-index: 1;position: relative;background-color: white;}#sk-container-id-1 div.sk-parallel-item:first-child::after {align-self: flex-end;width: 50%;}#sk-container-id-1 div.sk-parallel-item:last-child::after {align-self: flex-start;width: 50%;}#sk-container-id-1 div.sk-parallel-item:only-child::after {width: 0;}#sk-container-id-1 div.sk-dashed-wrapped {border: 1px dashed gray;margin: 0 0.4em 0.5em 0.4em;box-sizing: border-box;padding-bottom: 0.4em;background-color: white;}#sk-container-id-1 div.sk-label label {font-family: monospace;font-weight: bold;display: inline-block;line-height: 1.2em;}#sk-container-id-1 div.sk-label-container {text-align: center;}#sk-container-id-1 div.sk-container {/* jupyter's `normalize.less` sets `[hidden] { display: none; }` but bootstrap.min.css set `[hidden] { display: none !important; }` so we also need the `!important` here to be able to override the default hidden behavior on the sphinx rendered scikit-learn.org. See: https://github.com/scikit-learn/scikit-learn/issues/21755 */display: inline-block !important;position: relative;}#sk-container-id-1 div.sk-text-repr-fallback {display: none;}</style><div id=\"sk-container-id-1\" class=\"sk-top-container\"><div class=\"sk-text-repr-fallback\"><pre>NMF(n_components=5, random_state=42)</pre><b>In a Jupyter environment, please rerun this cell to show the HTML representation or trust the notebook. <br />On GitHub, the HTML representation is unable to render, please try loading this page with nbviewer.org.</b></div><div class=\"sk-container\" hidden><div class=\"sk-item\"><div class=\"sk-estimator sk-toggleable\"><input class=\"sk-toggleable__control sk-hidden--visually\" id=\"sk-estimator-id-1\" type=\"checkbox\" checked><label for=\"sk-estimator-id-1\" class=\"sk-toggleable__label sk-toggleable__label-arrow\">NMF</label><div class=\"sk-toggleable__content\"><pre>NMF(n_components=5, random_state=42)</pre></div></div></div></div></div>"
      ],
      "text/plain": [
       "NMF(n_components=5, random_state=42)"
      ]
     },
     "execution_count": 32,
     "metadata": {},
     "output_type": "execute_result"
    }
   ],
   "source": [
    "from sklearn.decomposition import NMF\n",
    "\n",
    "nmf = NMF(n_components=5, random_state=42)\n",
    "nmf.fit(tfidf_text_root )"
   ]
  },
  {
   "cell_type": "code",
   "execution_count": 33,
   "metadata": {},
   "outputs": [
    {
     "name": "stdout",
     "output_type": "stream",
     "text": [
      "modif\n",
      "palo\n",
      "variou\n",
      "gener\n",
      "deplatform\n"
     ]
    }
   ],
   "source": [
    "import random\n",
    "\n",
    "feature_names = tfidf_root.get_feature_names_out()\n",
    "\n",
    "for i in range(5):\n",
    "    random_id = random.randint(0, len(feature_names) - 1)\n",
    "    print(feature_names[random_id])"
   ]
  },
  {
   "cell_type": "code",
   "execution_count": 34,
   "metadata": {},
   "outputs": [],
   "source": [
    "first_topic = nmf.components_[0]\n",
    "top_topic_words = first_topic.argsort()[-5:]"
   ]
  },
  {
   "cell_type": "code",
   "execution_count": 35,
   "metadata": {},
   "outputs": [
    {
     "name": "stdout",
     "output_type": "stream",
     "text": [
      "agre\n",
      "great\n",
      "absolut\n",
      "thi\n",
      "usernam\n"
     ]
    }
   ],
   "source": [
    "feature_names = tfidf_root.get_feature_names_out()\n",
    "\n",
    "for i in top_topic_words:\n",
    "    print(feature_names[i])"
   ]
  },
  {
   "cell_type": "code",
   "execution_count": 36,
   "metadata": {},
   "outputs": [
    {
     "name": "stdout",
     "output_type": "stream",
     "text": [
      "Top five words for topic #0:\n",
      "['agre', 'great', 'absolut', 'thi', 'usernam']\n",
      "\n",
      "\n",
      "Top five words for topic #1:\n",
      "['actual', 'lol', 'veri', 'usernam', 'true']\n",
      "\n",
      "\n",
      "Top five words for topic #2:\n",
      "['right', 'rule', 'haha', 'usernam', 'exactli']\n",
      "\n",
      "\n",
      "Top five words for topic #3:\n",
      "['sigh', 'bizarr', 'great', 'usernam', 'yeah']\n",
      "\n",
      "\n",
      "Top five words for topic #4:\n",
      "['idea', 'point', 'thread', 'question', 'good']\n",
      "\n",
      "\n"
     ]
    }
   ],
   "source": [
    "# print the five words with highest probabilities for each of the topics\n",
    "\n",
    "feature_names = tfidf_root.get_feature_names_out()\n",
    "\n",
    "for i,topic in enumerate(nmf.components_):\n",
    "    print(f'Top five words for topic #{i}:')\n",
    "    print([feature_names[i] for i in topic.argsort()[-5:]])\n",
    "    print('\\n')"
   ]
  },
  {
   "cell_type": "markdown",
   "metadata": {},
   "source": [
    "Now let's perform on nostopwords column."
   ]
  },
  {
   "cell_type": "code",
   "execution_count": 37,
   "metadata": {},
   "outputs": [
    {
     "data": {
      "text/html": [
       "<style>#sk-container-id-2 {color: black;}#sk-container-id-2 pre{padding: 0;}#sk-container-id-2 div.sk-toggleable {background-color: white;}#sk-container-id-2 label.sk-toggleable__label {cursor: pointer;display: block;width: 100%;margin-bottom: 0;padding: 0.3em;box-sizing: border-box;text-align: center;}#sk-container-id-2 label.sk-toggleable__label-arrow:before {content: \"▸\";float: left;margin-right: 0.25em;color: #696969;}#sk-container-id-2 label.sk-toggleable__label-arrow:hover:before {color: black;}#sk-container-id-2 div.sk-estimator:hover label.sk-toggleable__label-arrow:before {color: black;}#sk-container-id-2 div.sk-toggleable__content {max-height: 0;max-width: 0;overflow: hidden;text-align: left;background-color: #f0f8ff;}#sk-container-id-2 div.sk-toggleable__content pre {margin: 0.2em;color: black;border-radius: 0.25em;background-color: #f0f8ff;}#sk-container-id-2 input.sk-toggleable__control:checked~div.sk-toggleable__content {max-height: 200px;max-width: 100%;overflow: auto;}#sk-container-id-2 input.sk-toggleable__control:checked~label.sk-toggleable__label-arrow:before {content: \"▾\";}#sk-container-id-2 div.sk-estimator input.sk-toggleable__control:checked~label.sk-toggleable__label {background-color: #d4ebff;}#sk-container-id-2 div.sk-label input.sk-toggleable__control:checked~label.sk-toggleable__label {background-color: #d4ebff;}#sk-container-id-2 input.sk-hidden--visually {border: 0;clip: rect(1px 1px 1px 1px);clip: rect(1px, 1px, 1px, 1px);height: 1px;margin: -1px;overflow: hidden;padding: 0;position: absolute;width: 1px;}#sk-container-id-2 div.sk-estimator {font-family: monospace;background-color: #f0f8ff;border: 1px dotted black;border-radius: 0.25em;box-sizing: border-box;margin-bottom: 0.5em;}#sk-container-id-2 div.sk-estimator:hover {background-color: #d4ebff;}#sk-container-id-2 div.sk-parallel-item::after {content: \"\";width: 100%;border-bottom: 1px solid gray;flex-grow: 1;}#sk-container-id-2 div.sk-label:hover label.sk-toggleable__label {background-color: #d4ebff;}#sk-container-id-2 div.sk-serial::before {content: \"\";position: absolute;border-left: 1px solid gray;box-sizing: border-box;top: 0;bottom: 0;left: 50%;z-index: 0;}#sk-container-id-2 div.sk-serial {display: flex;flex-direction: column;align-items: center;background-color: white;padding-right: 0.2em;padding-left: 0.2em;position: relative;}#sk-container-id-2 div.sk-item {position: relative;z-index: 1;}#sk-container-id-2 div.sk-parallel {display: flex;align-items: stretch;justify-content: center;background-color: white;position: relative;}#sk-container-id-2 div.sk-item::before, #sk-container-id-2 div.sk-parallel-item::before {content: \"\";position: absolute;border-left: 1px solid gray;box-sizing: border-box;top: 0;bottom: 0;left: 50%;z-index: -1;}#sk-container-id-2 div.sk-parallel-item {display: flex;flex-direction: column;z-index: 1;position: relative;background-color: white;}#sk-container-id-2 div.sk-parallel-item:first-child::after {align-self: flex-end;width: 50%;}#sk-container-id-2 div.sk-parallel-item:last-child::after {align-self: flex-start;width: 50%;}#sk-container-id-2 div.sk-parallel-item:only-child::after {width: 0;}#sk-container-id-2 div.sk-dashed-wrapped {border: 1px dashed gray;margin: 0 0.4em 0.5em 0.4em;box-sizing: border-box;padding-bottom: 0.4em;background-color: white;}#sk-container-id-2 div.sk-label label {font-family: monospace;font-weight: bold;display: inline-block;line-height: 1.2em;}#sk-container-id-2 div.sk-label-container {text-align: center;}#sk-container-id-2 div.sk-container {/* jupyter's `normalize.less` sets `[hidden] { display: none; }` but bootstrap.min.css set `[hidden] { display: none !important; }` so we also need the `!important` here to be able to override the default hidden behavior on the sphinx rendered scikit-learn.org. See: https://github.com/scikit-learn/scikit-learn/issues/21755 */display: inline-block !important;position: relative;}#sk-container-id-2 div.sk-text-repr-fallback {display: none;}</style><div id=\"sk-container-id-2\" class=\"sk-top-container\"><div class=\"sk-text-repr-fallback\"><pre>NMF(n_components=5, random_state=42)</pre><b>In a Jupyter environment, please rerun this cell to show the HTML representation or trust the notebook. <br />On GitHub, the HTML representation is unable to render, please try loading this page with nbviewer.org.</b></div><div class=\"sk-container\" hidden><div class=\"sk-item\"><div class=\"sk-estimator sk-toggleable\"><input class=\"sk-toggleable__control sk-hidden--visually\" id=\"sk-estimator-id-2\" type=\"checkbox\" checked><label for=\"sk-estimator-id-2\" class=\"sk-toggleable__label sk-toggleable__label-arrow\">NMF</label><div class=\"sk-toggleable__content\"><pre>NMF(n_components=5, random_state=42)</pre></div></div></div></div></div>"
      ],
      "text/plain": [
       "NMF(n_components=5, random_state=42)"
      ]
     },
     "execution_count": 37,
     "metadata": {},
     "output_type": "execute_result"
    }
   ],
   "source": [
    "nmf = NMF(n_components=5, random_state=42)\n",
    "nmf.fit(tfidf_text)"
   ]
  },
  {
   "cell_type": "code",
   "execution_count": 38,
   "metadata": {},
   "outputs": [
    {
     "name": "stdout",
     "output_type": "stream",
     "text": [
      "alexand\n",
      "section\n",
      "print\n",
      "horribl\n",
      "la\n"
     ]
    }
   ],
   "source": [
    "feature_names = tfidf.get_feature_names_out()\n",
    "\n",
    "for i in range(5):\n",
    "    random_id = random.randint(0, len(feature_names) - 1)\n",
    "    print(feature_names[random_id])\n",
    "first_topic = nmf.components_[0]\n",
    "top_topic_words = first_topic.argsort()[-5:]"
   ]
  },
  {
   "cell_type": "code",
   "execution_count": 39,
   "metadata": {},
   "outputs": [
    {
     "name": "stdout",
     "output_type": "stream",
     "text": [
      "account\n",
      "tweet\n",
      "time\n",
      "peopl\n",
      "twitter\n"
     ]
    }
   ],
   "source": [
    "for i in top_topic_words:\n",
    "    print(feature_names[i])\n",
    "# print the five words with highest probabilities for each of the topics"
   ]
  },
  {
   "cell_type": "code",
   "execution_count": 40,
   "metadata": {},
   "outputs": [
    {
     "name": "stdout",
     "output_type": "stream",
     "text": [
      "Top five words for topic #0:\n",
      "['world', 'account', 'tweet', 'time', 'peopl', 'twitter']\n",
      "\n",
      "\n",
      "Top five words for topic #1:\n",
      "['fix', 'everi', 'tesla', 'time', 'team', 'work']\n",
      "\n",
      "\n",
      "Top five words for topic #2:\n",
      "['wow', 'address', 'super', 'real', 'extrem', 'concern']\n",
      "\n",
      "\n",
      "Top five words for topic #3:\n",
      "['inde', 'mayb', 'answer', 'ask', 'real', 'question']\n",
      "\n",
      "\n",
      "Top five words for topic #4:\n",
      "['ad', 'comment', 'point', 'import', 'correct', 'thread']\n",
      "\n",
      "\n"
     ]
    }
   ],
   "source": [
    "for i,topic in enumerate(nmf.components_):\n",
    "    print(f'Top five words for topic #{i}:')\n",
    "    print([feature_names[i] for i in topic.argsort()[-6:]])\n",
    "    print('\\n')"
   ]
  },
  {
   "cell_type": "markdown",
   "metadata": {},
   "source": [
    "#### 5.2 Bertopic model"
   ]
  },
  {
   "cell_type": "code",
   "execution_count": 41,
   "metadata": {},
   "outputs": [],
   "source": [
    "text_cleaned = tweets['nostopwords_rootform_text_str']"
   ]
  },
  {
   "cell_type": "code",
   "execution_count": 42,
   "metadata": {},
   "outputs": [],
   "source": [
    "tokenizer = RegexpTokenizer(r'\\w+') # tokenizer\n",
    "tf_vectorizer = CountVectorizer(encoding = 'utf-8', \n",
    "                                decode_error = 'strict', \n",
    "                                lowercase = True, # all letters to lower case \n",
    "                                ngram_range = (1, 3), # what kind of ngrams do we want \n",
    "                                max_df = 0.8, # filtering with document frequency\n",
    "                                min_df = 2, # filtering with document frequency\n",
    "                                max_features = None, \n",
    ")\n",
    "\n",
    "tf = tf_vectorizer.fit_transform(text_cleaned)\n",
    "tf_feature_names = tf_vectorizer.get_feature_names_out() "
   ]
  },
  {
   "cell_type": "code",
   "execution_count": 43,
   "metadata": {},
   "outputs": [
    {
     "name": "stderr",
     "output_type": "stream",
     "text": [
      "2024-02-29 20:08:54,033 - BERTopic - Embedding - Transforming documents to embeddings.\n"
     ]
    },
    {
     "data": {
      "application/vnd.jupyter.widget-view+json": {
       "model_id": "fd149ed9603f4c4e88e410d638a0aff5",
       "version_major": 2,
       "version_minor": 0
      },
      "text/plain": [
       "Batches:   0%|          | 0/185 [00:00<?, ?it/s]"
      ]
     },
     "metadata": {},
     "output_type": "display_data"
    },
    {
     "name": "stderr",
     "output_type": "stream",
     "text": [
      "2024-02-29 20:09:24,864 - BERTopic - Embedding - Completed ✓\n",
      "2024-02-29 20:09:24,865 - BERTopic - Dimensionality - Fitting the dimensionality reduction algorithm\n",
      "2024-02-29 20:09:50,786 - BERTopic - Dimensionality - Completed ✓\n",
      "2024-02-29 20:09:50,788 - BERTopic - Cluster - Start clustering the reduced embeddings\n",
      "2024-02-29 20:14:09,010 - BERTopic - Cluster - Completed ✓\n",
      "2024-02-29 20:14:09,012 - BERTopic - Representation - Extracting topics from clusters using representation models.\n",
      "2024-02-29 20:14:09,603 - BERTopic - Representation - Completed ✓\n",
      "2024-02-29 20:14:09,604 - BERTopic - Topic reduction - Reducing number of topics\n",
      "2024-02-29 20:14:09,903 - BERTopic - Topic reduction - Reduced number of topics from 586 to 20\n"
     ]
    }
   ],
   "source": [
    "topic_model = BERTopic(language=\"english\", vectorizer_model=tf_vectorizer, calculate_probabilities=True, verbose=True, min_topic_size = 2, nr_topics = 20)\n",
    "topics, probs = topic_model.fit_transform(text_cleaned)"
   ]
  },
  {
   "cell_type": "code",
   "execution_count": 44,
   "metadata": {},
   "outputs": [
    {
     "name": "stdout",
     "output_type": "stream",
     "text": [
      "{0, 1, 2, 3, 4, 5, 6, 7, 8, 9, 10, 11, 12, 13, 14, 15, 16, 17, 18, -1}\n"
     ]
    }
   ],
   "source": [
    "# display a set of unique topic numbers\n",
    "print(set(topics))  "
   ]
  },
  {
   "cell_type": "code",
   "execution_count": 45,
   "metadata": {},
   "outputs": [
    {
     "name": "stdout",
     "output_type": "stream",
     "text": [
      "Repetitive Words:\n",
      "Word: twitter, Count: 2\n",
      "Word: tweet, Count: 2\n",
      "Word: peopl, Count: 2\n",
      "Word: more, Count: 2\n",
      "Word: year, Count: 2\n",
      "Word: other, Count: 2\n",
      "Word: time, Count: 2\n",
      "Word: team, Count: 2\n",
      "Word: , Count: 5\n"
     ]
    },
    {
     "data": {
      "text/html": [
       "<div>\n",
       "<style scoped>\n",
       "    .dataframe tbody tr th:only-of-type {\n",
       "        vertical-align: middle;\n",
       "    }\n",
       "\n",
       "    .dataframe tbody tr th {\n",
       "        vertical-align: top;\n",
       "    }\n",
       "\n",
       "    .dataframe thead th {\n",
       "        text-align: right;\n",
       "    }\n",
       "</style>\n",
       "<table border=\"1\" class=\"dataframe\">\n",
       "  <thead>\n",
       "    <tr style=\"text-align: right;\">\n",
       "      <th></th>\n",
       "      <th>Topic</th>\n",
       "      <th>Count</th>\n",
       "      <th>Name</th>\n",
       "      <th>Representation</th>\n",
       "      <th>Representative_Docs</th>\n",
       "    </tr>\n",
       "  </thead>\n",
       "  <tbody>\n",
       "    <tr>\n",
       "      <th>0</th>\n",
       "      <td>-1</td>\n",
       "      <td>1034</td>\n",
       "      <td>-1_twitter_tweet_peopl_more</td>\n",
       "      <td>[twitter, tweet, peopl, more, now, than, year,...</td>\n",
       "      <td>[twitter improv releas now bookmark tweet twee...</td>\n",
       "    </tr>\n",
       "    <tr>\n",
       "      <th>1</th>\n",
       "      <td>0</td>\n",
       "      <td>2463</td>\n",
       "      <td>0_twitter_interest_peopl_account</td>\n",
       "      <td>[twitter, interest, peopl, account, more, mayb...</td>\n",
       "      <td>[love when peopl complain twitter twitter, twi...</td>\n",
       "    </tr>\n",
       "    <tr>\n",
       "      <th>2</th>\n",
       "      <td>1</td>\n",
       "      <td>1408</td>\n",
       "      <td>1_work_time_thread_import</td>\n",
       "      <td>[work, time, thread, import, question, correct...</td>\n",
       "      <td>[mess up, fix work, sound mess up]</td>\n",
       "    </tr>\n",
       "    <tr>\n",
       "      <th>3</th>\n",
       "      <td>2</td>\n",
       "      <td>666</td>\n",
       "      <td>2_tesla_starlink_starship_launch</td>\n",
       "      <td>[tesla, starlink, starship, launch, car, space...</td>\n",
       "      <td>[congrat giga shanghai millionth car total tes...</td>\n",
       "    </tr>\n",
       "    <tr>\n",
       "      <th>4</th>\n",
       "      <td>3</td>\n",
       "      <td>82</td>\n",
       "      <td>3_chang_digit_rate_japan</td>\n",
       "      <td>[chang, digit, rate, japan, biolog, scale, com...</td>\n",
       "      <td>[ratio total digit total biolog comput key met...</td>\n",
       "    </tr>\n",
       "    <tr>\n",
       "      <th>5</th>\n",
       "      <td>4</td>\n",
       "      <td>40</td>\n",
       "      <td>4_children_adult_parent_kid</td>\n",
       "      <td>[children, adult, parent, kid, child, age, nam...</td>\n",
       "      <td>[assist suicid someon matur adult definit kid ...</td>\n",
       "    </tr>\n",
       "    <tr>\n",
       "      <th>6</th>\n",
       "      <td>5</td>\n",
       "      <td>36</td>\n",
       "      <td>5_eat_product_donut_caffein</td>\n",
       "      <td>[eat, product, donut, caffein, joy, sugar, tbh...</td>\n",
       "      <td>[product bring joy rare, after 1 eat sugar htt...</td>\n",
       "    </tr>\n",
       "    <tr>\n",
       "      <th>7</th>\n",
       "      <td>6</td>\n",
       "      <td>30</td>\n",
       "      <td>6_assess_fate_critic_hate</td>\n",
       "      <td>[assess, fate, critic, hate, analysi, fact, lo...</td>\n",
       "      <td>[assess, assess, fate love ironi hate hypocrisi]</td>\n",
       "    </tr>\n",
       "    <tr>\n",
       "      <th>8</th>\n",
       "      <td>7</td>\n",
       "      <td>30</td>\n",
       "      <td>7_hair_ironi_iron_fire</td>\n",
       "      <td>[hair, ironi, iron, fire, sold, oh, static fir...</td>\n",
       "      <td>[work burnt hair, over 5000 bottl burnt hair s...</td>\n",
       "    </tr>\n",
       "    <tr>\n",
       "      <th>9</th>\n",
       "      <td>8</td>\n",
       "      <td>19</td>\n",
       "      <td>8_tunnel_dig_grave_sock</td>\n",
       "      <td>[tunnel, dig, grave, sock, open sourc, open, s...</td>\n",
       "      <td>[tunnel, risk brag littl incred job dig own gr...</td>\n",
       "    </tr>\n",
       "    <tr>\n",
       "      <th>10</th>\n",
       "      <td>9</td>\n",
       "      <td>17</td>\n",
       "      <td>9_rule_block_delet block_delet</td>\n",
       "      <td>[rule, block, delet block, delet, zero, agains...</td>\n",
       "      <td>[he block, whi delet block list, same rule]</td>\n",
       "    </tr>\n",
       "    <tr>\n",
       "      <th>11</th>\n",
       "      <td>10</td>\n",
       "      <td>16</td>\n",
       "      <td>10_liter_batteri_air_filter</td>\n",
       "      <td>[liter, batteri, air, filter, pack, grid, refi...</td>\n",
       "      <td>[liter how found, liter, liter]</td>\n",
       "    </tr>\n",
       "    <tr>\n",
       "      <th>12</th>\n",
       "      <td>11</td>\n",
       "      <td>15</td>\n",
       "      <td>11_mirror_side_bug_remind</td>\n",
       "      <td>[mirror, side, bug, remind, fix, lag, center, ...</td>\n",
       "      <td>[said add autoconfigur side mirror, door handl...</td>\n",
       "    </tr>\n",
       "    <tr>\n",
       "      <th>13</th>\n",
       "      <td>12</td>\n",
       "      <td>10</td>\n",
       "      <td>12_organ_interview_perfect_affili</td>\n",
       "      <td>[organ, interview, perfect, affili, imperson, ...</td>\n",
       "      <td>[highli recommend organ sign up valid their af...</td>\n",
       "    </tr>\n",
       "    <tr>\n",
       "      <th>14</th>\n",
       "      <td>13</td>\n",
       "      <td>9</td>\n",
       "      <td>13_natur_better_better than_numbskul</td>\n",
       "      <td>[natur, better, better than, numbskul, legisl,...</td>\n",
       "      <td>[natur heal, legisl nada often way better than...</td>\n",
       "    </tr>\n",
       "    <tr>\n",
       "      <th>15</th>\n",
       "      <td>14</td>\n",
       "      <td>9</td>\n",
       "      <td>14_gener_mrna_vector_synthet</td>\n",
       "      <td>[gener, mrna, vector, synthet, synthet mrna, p...</td>\n",
       "      <td>[gener principl improv signal nois incred impo...</td>\n",
       "    </tr>\n",
       "    <tr>\n",
       "      <th>16</th>\n",
       "      <td>15</td>\n",
       "      <td>8</td>\n",
       "      <td>15_address_phone_call_ask</td>\n",
       "      <td>[address, phone, call, ask, ask them, some iss...</td>\n",
       "      <td>[doe lockdown mode address, help identifi some...</td>\n",
       "    </tr>\n",
       "    <tr>\n",
       "      <th>17</th>\n",
       "      <td>16</td>\n",
       "      <td>5</td>\n",
       "      <td>16_excel_optimu team_excel work_contribut</td>\n",
       "      <td>[excel, optimu team, excel work, contribut, pr...</td>\n",
       "      <td>[excel question, spent walk giga berlin produc...</td>\n",
       "    </tr>\n",
       "    <tr>\n",
       "      <th>18</th>\n",
       "      <td>17</td>\n",
       "      <td>5</td>\n",
       "      <td>17_7month_sign up_via web_sign</td>\n",
       "      <td>[7month, sign up, via web, sign, blue, web, vi...</td>\n",
       "      <td>[get blue verifi 7month sign up via web browse...</td>\n",
       "    </tr>\n",
       "    <tr>\n",
       "      <th>19</th>\n",
       "      <td>18</td>\n",
       "      <td>2</td>\n",
       "      <td>18_itali_disappear_nation_die</td>\n",
       "      <td>[itali, disappear, nation, die, other, , , , , ]</td>\n",
       "      <td>[itali disappear, itali other nation die]</td>\n",
       "    </tr>\n",
       "  </tbody>\n",
       "</table>\n",
       "</div>"
      ],
      "text/plain": [
       "    Topic  Count                                       Name  \\\n",
       "0      -1   1034                -1_twitter_tweet_peopl_more   \n",
       "1       0   2463           0_twitter_interest_peopl_account   \n",
       "2       1   1408                  1_work_time_thread_import   \n",
       "3       2    666           2_tesla_starlink_starship_launch   \n",
       "4       3     82                   3_chang_digit_rate_japan   \n",
       "5       4     40                4_children_adult_parent_kid   \n",
       "6       5     36                5_eat_product_donut_caffein   \n",
       "7       6     30                  6_assess_fate_critic_hate   \n",
       "8       7     30                     7_hair_ironi_iron_fire   \n",
       "9       8     19                    8_tunnel_dig_grave_sock   \n",
       "10      9     17             9_rule_block_delet block_delet   \n",
       "11     10     16                10_liter_batteri_air_filter   \n",
       "12     11     15                  11_mirror_side_bug_remind   \n",
       "13     12     10          12_organ_interview_perfect_affili   \n",
       "14     13      9       13_natur_better_better than_numbskul   \n",
       "15     14      9               14_gener_mrna_vector_synthet   \n",
       "16     15      8                  15_address_phone_call_ask   \n",
       "17     16      5  16_excel_optimu team_excel work_contribut   \n",
       "18     17      5             17_7month_sign up_via web_sign   \n",
       "19     18      2              18_itali_disappear_nation_die   \n",
       "\n",
       "                                       Representation  \\\n",
       "0   [twitter, tweet, peopl, more, now, than, year,...   \n",
       "1   [twitter, interest, peopl, account, more, mayb...   \n",
       "2   [work, time, thread, import, question, correct...   \n",
       "3   [tesla, starlink, starship, launch, car, space...   \n",
       "4   [chang, digit, rate, japan, biolog, scale, com...   \n",
       "5   [children, adult, parent, kid, child, age, nam...   \n",
       "6   [eat, product, donut, caffein, joy, sugar, tbh...   \n",
       "7   [assess, fate, critic, hate, analysi, fact, lo...   \n",
       "8   [hair, ironi, iron, fire, sold, oh, static fir...   \n",
       "9   [tunnel, dig, grave, sock, open sourc, open, s...   \n",
       "10  [rule, block, delet block, delet, zero, agains...   \n",
       "11  [liter, batteri, air, filter, pack, grid, refi...   \n",
       "12  [mirror, side, bug, remind, fix, lag, center, ...   \n",
       "13  [organ, interview, perfect, affili, imperson, ...   \n",
       "14  [natur, better, better than, numbskul, legisl,...   \n",
       "15  [gener, mrna, vector, synthet, synthet mrna, p...   \n",
       "16  [address, phone, call, ask, ask them, some iss...   \n",
       "17  [excel, optimu team, excel work, contribut, pr...   \n",
       "18  [7month, sign up, via web, sign, blue, web, vi...   \n",
       "19   [itali, disappear, nation, die, other, , , , , ]   \n",
       "\n",
       "                                  Representative_Docs  \n",
       "0   [twitter improv releas now bookmark tweet twee...  \n",
       "1   [love when peopl complain twitter twitter, twi...  \n",
       "2                  [mess up, fix work, sound mess up]  \n",
       "3   [congrat giga shanghai millionth car total tes...  \n",
       "4   [ratio total digit total biolog comput key met...  \n",
       "5   [assist suicid someon matur adult definit kid ...  \n",
       "6   [product bring joy rare, after 1 eat sugar htt...  \n",
       "7    [assess, assess, fate love ironi hate hypocrisi]  \n",
       "8   [work burnt hair, over 5000 bottl burnt hair s...  \n",
       "9   [tunnel, risk brag littl incred job dig own gr...  \n",
       "10        [he block, whi delet block list, same rule]  \n",
       "11                    [liter how found, liter, liter]  \n",
       "12  [said add autoconfigur side mirror, door handl...  \n",
       "13  [highli recommend organ sign up valid their af...  \n",
       "14  [natur heal, legisl nada often way better than...  \n",
       "15  [gener principl improv signal nois incred impo...  \n",
       "16  [doe lockdown mode address, help identifi some...  \n",
       "17  [excel question, spent walk giga berlin produc...  \n",
       "18  [get blue verifi 7month sign up via web browse...  \n",
       "19          [itali disappear, itali other nation die]  "
      ]
     },
     "execution_count": 45,
     "metadata": {},
     "output_type": "execute_result"
    }
   ],
   "source": [
    "# Get topic information\n",
    "topic_info = topic_model.get_topic_info()\n",
    "\n",
    "# Extracting words from all topics\n",
    "all_words = []\n",
    "for index, row in topic_info.iterrows():\n",
    "    words = row['Representation']\n",
    "    all_words.extend(words)\n",
    "\n",
    "# Count the frequency of each word\n",
    "word_counts = Counter(all_words)\n",
    "\n",
    "# Identify and print repetitive words\n",
    "print(\"Repetitive Words:\")\n",
    "for word, count in word_counts.items():\n",
    "    if count > 1:  # Adjust this threshold as needed\n",
    "        print(f\"Word: {word}, Count: {count}\")\n",
    "        \n",
    "topic_info"
   ]
  },
  {
   "cell_type": "code",
   "execution_count": 46,
   "metadata": {},
   "outputs": [
    {
     "name": "stdout",
     "output_type": "stream",
     "text": [
      "Number of topics: 5904\n",
      "Number of documents: 5904\n"
     ]
    }
   ],
   "source": [
    "print(\"Number of topics:\", len(topics))\n",
    "print(\"Number of documents:\", len(text_cleaned))"
   ]
  },
  {
   "cell_type": "code",
   "execution_count": 47,
   "metadata": {},
   "outputs": [
    {
     "name": "stdout",
     "output_type": "stream",
     "text": [
      "Topic 0: [('twitter', 0.0322282863033962), ('interest', 0.020113838748801325), ('peopl', 0.01888339455536882), ('account', 0.016640219282088746), ('more', 0.01529936348367797), ('mayb', 0.013350177426517095), ('tweet', 0.012863580759799563), ('their', 0.012529397883623554), ('real', 0.012202096235945674), ('get', 0.012105203625089309)]\n",
      "Topic 1: [('work', 0.04619314072529063), ('time', 0.0420417321960879), ('thread', 0.03833102446436863), ('import', 0.03457314463976743), ('question', 0.03437472911053642), ('correct', 0.03219806055006965), ('point', 0.030132932365736075), ('probabl', 0.02947211820405071), ('up', 0.02872985527396465), ('idea', 0.028222460255567784)]\n",
      "Topic 2: [('tesla', 0.08090496961999379), ('starlink', 0.04672350895234232), ('starship', 0.04104249025087688), ('launch', 0.03986475635749693), ('car', 0.03211930303872821), ('spacex', 0.025529078610445725), ('earth', 0.02448130924902795), ('team', 0.023846660933743928), ('year', 0.020998731531686878), ('orbit', 0.02031741988452832)]\n",
      "Topic 3: [('chang', 0.08485297915328746), ('digit', 0.06350987135208765), ('rate', 0.0581464724586298), ('japan', 0.052275729437827434), ('biolog', 0.0490102621995686), ('scale', 0.04894241779222622), ('comput', 0.04894241779222622), ('number', 0.04306154951687313), ('low', 0.03966691223026884), ('china', 0.03809852810690456)]\n",
      "Topic 4: [('children', 0.1366574274618851), ('adult', 0.11047010514213519), ('parent', 0.10247318114357112), ('kid', 0.099861404967829), ('child', 0.07498956777981472), ('age', 0.07364673676142347), ('name', 0.07050545734767717), ('consent', 0.06799055360722564), ('prison', 0.06539438312310936), ('pronoun', 0.06327472761796443)]\n"
     ]
    }
   ],
   "source": [
    "# Print words associated with the first few topics\n",
    "for i in range(min(5, len(topic_model.get_topics()))):\n",
    "    print(f\"Topic {i}: {topic_model.get_topic(i)}\")"
   ]
  },
  {
   "cell_type": "code",
   "execution_count": 48,
   "metadata": {},
   "outputs": [
    {
     "data": {
      "image/png": "[encoded data removed]",
      "text/plain": [
       "<Figure size 2000x1000 with 2 Axes>"
      ]
     },
     "metadata": {},
     "output_type": "display_data"
    }
   ],
   "source": [
    "# Compute cosine similarity matrix\n",
    "similarity_matrix = cosine_similarity(topic_model.topic_embeddings_)\n",
    "\n",
    "# Plot heatmap\n",
    "plt.figure(figsize=(20, 10))\n",
    "sns.heatmap(similarity_matrix, annot=True, cmap='coolwarm')\n",
    "plt.title(\"Topic Similarity Heatmap\")\n",
    "plt.xlabel(\"Topic\")\n",
    "plt.ylabel(\"Topic\")\n",
    "plt.show()"
   ]
  },
  {
   "cell_type": "markdown",
   "metadata": {},
   "source": [
    "A high similarity score (closer to 1, warmer colors) suggests that the topics are closely related and might share a number of keywords or are discussing similar themes. Low scores (closer to 0, cooler colors) suggest that the topics are quite distinct from each other."
   ]
  },
  {
   "cell_type": "code",
   "execution_count": 49,
   "metadata": {},
   "outputs": [
    {
     "data": {
      "application/vnd.plotly.v1+json": {
       "config": {
        "plotlyServerURL": "https://plot.ly"
       },
       "data": [
        {
         "marker": {
          "color": "#D55E00"
         },
         "orientation": "h",
         "type": "bar",
         "x": [
          0.01529936348367797,
          0.016640219282088746,
          0.01888339455536882,
          0.020113838748801325,
          0.0322282863033962
         ],
         "xaxis": "x",
         "y": [
          "more  ",
          "account  ",
          "peopl  ",
          "interest  ",
          "twitter  "
         ],
         "yaxis": "y"
        },
        {
         "marker": {
          "color": "#0072B2"
         },
         "orientation": "h",
         "type": "bar",
         "x": [
          0.03437472911053642,
          0.03457314463976743,
          0.03833102446436863,
          0.0420417321960879,
          0.04619314072529063
         ],
         "xaxis": "x2",
         "y": [
          "question  ",
          "import  ",
          "thread  ",
          "time  ",
          "work  "
         ],
         "yaxis": "y2"
        },
        {
         "marker": {
          "color": "#CC79A7"
         },
         "orientation": "h",
         "type": "bar",
         "x": [
          0.03211930303872821,
          0.03986475635749693,
          0.04104249025087688,
          0.04672350895234232,
          0.08090496961999379
         ],
         "xaxis": "x3",
         "y": [
          "car  ",
          "launch  ",
          "starship  ",
          "starlink  ",
          "tesla  "
         ],
         "yaxis": "y3"
        },
        {
         "marker": {
          "color": "#E69F00"
         },
         "orientation": "h",
         "type": "bar",
         "x": [
          0.0490102621995686,
          0.052275729437827434,
          0.0581464724586298,
          0.06350987135208765,
          0.08485297915328746
         ],
         "xaxis": "x4",
         "y": [
          "biolog  ",
          "japan  ",
          "rate  ",
          "digit  ",
          "chang  "
         ],
         "yaxis": "y4"
        },
        {
         "marker": {
          "color": "#56B4E9"
         },
         "orientation": "h",
         "type": "bar",
         "x": [
          0.07498956777981472,
          0.099861404967829,
          0.10247318114357112,
          0.11047010514213519,
          0.1366574274618851
         ],
         "xaxis": "x5",
         "y": [
          "child  ",
          "kid  ",
          "parent  ",
          "adult  ",
          "children  "
         ],
         "yaxis": "y5"
        },
        {
         "marker": {
          "color": "#009E73"
         },
         "orientation": "h",
         "type": "bar",
         "x": [
          0.11869784669939314,
          0.12267413476378908,
          0.127544323190197,
          0.13423749478584032,
          0.14990735084492862
         ],
         "xaxis": "x6",
         "y": [
          "joy  ",
          "caffein  ",
          "donut  ",
          "product  ",
          "eat  "
         ],
         "yaxis": "y6"
        },
        {
         "marker": {
          "color": "#F0E442"
         },
         "orientation": "h",
         "type": "bar",
         "x": [
          0.1491890366772189,
          0.15166907724504644,
          0.16319461717031025,
          0.18841566115371763,
          0.28559058004804294
         ],
         "xaxis": "x7",
         "y": [
          "analysi  ",
          "hate  ",
          "critic  ",
          "fate  ",
          "assess  "
         ],
         "yaxis": "y7"
        },
        {
         "marker": {
          "color": "#D55E00"
         },
         "orientation": "h",
         "type": "bar",
         "x": [
          0.1820683250510215,
          0.2030128675806507,
          0.20502466935545086,
          0.23097488311804945,
          0.3135737161108118
         ],
         "xaxis": "x8",
         "y": [
          "sold  ",
          "fire  ",
          "iron  ",
          "ironi  ",
          "hair  "
         ],
         "yaxis": "y8"
        }
       ],
       "layout": {
        "annotations": [
         {
          "font": {
           "size": 16
          },
          "showarrow": false,
          "text": "Topic 0",
          "x": 0.0875,
          "xanchor": "center",
          "xref": "paper",
          "y": 1,
          "yanchor": "bottom",
          "yref": "paper"
         },
         {
          "font": {
           "size": 16
          },
          "showarrow": false,
          "text": "Topic 1",
          "x": 0.36250000000000004,
          "xanchor": "center",
          "xref": "paper",
          "y": 1,
          "yanchor": "bottom",
          "yref": "paper"
         },
         {
          "font": {
           "size": 16
          },
          "showarrow": false,
          "text": "Topic 2",
          "x": 0.6375000000000001,
          "xanchor": "center",
          "xref": "paper",
          "y": 1,
          "yanchor": "bottom",
          "yref": "paper"
         },
         {
          "font": {
           "size": 16
          },
          "showarrow": false,
          "text": "Topic 3",
          "x": 0.9125,
          "xanchor": "center",
          "xref": "paper",
          "y": 1,
          "yanchor": "bottom",
          "yref": "paper"
         },
         {
          "font": {
           "size": 16
          },
          "showarrow": false,
          "text": "Topic 4",
          "x": 0.0875,
          "xanchor": "center",
          "xref": "paper",
          "y": 0.4,
          "yanchor": "bottom",
          "yref": "paper"
         },
         {
          "font": {
           "size": 16
          },
          "showarrow": false,
          "text": "Topic 5",
          "x": 0.36250000000000004,
          "xanchor": "center",
          "xref": "paper",
          "y": 0.4,
          "yanchor": "bottom",
          "yref": "paper"
         },
         {
          "font": {
           "size": 16
          },
          "showarrow": false,
          "text": "Topic 6",
          "x": 0.6375000000000001,
          "xanchor": "center",
          "xref": "paper",
          "y": 0.4,
          "yanchor": "bottom",
          "yref": "paper"
         },
         {
          "font": {
           "size": 16
          },
          "showarrow": false,
          "text": "Topic 7",
          "x": 0.9125,
          "xanchor": "center",
          "xref": "paper",
          "y": 0.4,
          "yanchor": "bottom",
          "yref": "paper"
         }
        ],
        "height": 500,
        "hoverlabel": {
         "bgcolor": "white",
         "font": {
          "family": "Rockwell",
          "size": 16
         }
        },
        "showlegend": false,
        "template": {
         "data": {
          "bar": [
           {
            "error_x": {
             "color": "#2a3f5f"
            },
            "error_y": {
             "color": "#2a3f5f"
            },
            "marker": {
             "line": {
              "color": "white",
              "width": 0.5
             },
             "pattern": {
              "fillmode": "overlay",
              "size": 10,
              "solidity": 0.2
             }
            },
            "type": "bar"
           }
          ],
          "barpolar": [
           {
            "marker": {
             "line": {
              "color": "white",
              "width": 0.5
             },
             "pattern": {
              "fillmode": "overlay",
              "size": 10,
              "solidity": 0.2
             }
            },
            "type": "barpolar"
           }
          ],
          "carpet": [
           {
            "aaxis": {
             "endlinecolor": "#2a3f5f",
             "gridcolor": "#C8D4E3",
             "linecolor": "#C8D4E3",
             "minorgridcolor": "#C8D4E3",
             "startlinecolor": "#2a3f5f"
            },
            "baxis": {
             "endlinecolor": "#2a3f5f",
             "gridcolor": "#C8D4E3",
             "linecolor": "#C8D4E3",
             "minorgridcolor": "#C8D4E3",
             "startlinecolor": "#2a3f5f"
            },
            "type": "carpet"
           }
          ],
          "choropleth": [
           {
            "colorbar": {
             "outlinewidth": 0,
             "ticks": ""
            },
            "type": "choropleth"
           }
          ],
          "contour": [
           {
            "colorbar": {
             "outlinewidth": 0,
             "ticks": ""
            },
            "colorscale": [
             [
              0,
              "#0d0887"
             ],
             [
              0.1111111111111111,
              "#46039f"
             ],
             [
              0.2222222222222222,
              "#7201a8"
             ],
             [
              0.3333333333333333,
              "#9c179e"
             ],
             [
              0.4444444444444444,
              "#bd3786"
             ],
             [
              0.5555555555555556,
              "#d8576b"
             ],
             [
              0.6666666666666666,
              "#ed7953"
             ],
             [
              0.7777777777777778,
              "#fb9f3a"
             ],
             [
              0.8888888888888888,
              "#fdca26"
             ],
             [
              1,
              "#f0f921"
             ]
            ],
            "type": "contour"
           }
          ],
          "contourcarpet": [
           {
            "colorbar": {
             "outlinewidth": 0,
             "ticks": ""
            },
            "type": "contourcarpet"
           }
          ],
          "heatmap": [
           {
            "colorbar": {
             "outlinewidth": 0,
             "ticks": ""
            },
            "colorscale": [
             [
              0,
              "#0d0887"
             ],
             [
              0.1111111111111111,
              "#46039f"
             ],
             [
              0.2222222222222222,
              "#7201a8"
             ],
             [
              0.3333333333333333,
              "#9c179e"
             ],
             [
              0.4444444444444444,
              "#bd3786"
             ],
             [
              0.5555555555555556,
              "#d8576b"
             ],
             [
              0.6666666666666666,
              "#ed7953"
             ],
             [
              0.7777777777777778,
              "#fb9f3a"
             ],
             [
              0.8888888888888888,
              "#fdca26"
             ],
             [
              1,
              "#f0f921"
             ]
            ],
            "type": "heatmap"
           }
          ],
          "heatmapgl": [
           {
            "colorbar": {
             "outlinewidth": 0,
             "ticks": ""
            },
            "colorscale": [
             [
              0,
              "#0d0887"
             ],
             [
              0.1111111111111111,
              "#46039f"
             ],
             [
              0.2222222222222222,
              "#7201a8"
             ],
             [
              0.3333333333333333,
              "#9c179e"
             ],
             [
              0.4444444444444444,
              "#bd3786"
             ],
             [
              0.5555555555555556,
              "#d8576b"
             ],
             [
              0.6666666666666666,
              "#ed7953"
             ],
             [
              0.7777777777777778,
              "#fb9f3a"
             ],
             [
              0.8888888888888888,
              "#fdca26"
             ],
             [
              1,
              "#f0f921"
             ]
            ],
            "type": "heatmapgl"
           }
          ],
          "histogram": [
           {
            "marker": {
             "pattern": {
              "fillmode": "overlay",
              "size": 10,
              "solidity": 0.2
             }
            },
            "type": "histogram"
           }
          ],
          "histogram2d": [
           {
            "colorbar": {
             "outlinewidth": 0,
             "ticks": ""
            },
            "colorscale": [
             [
              0,
              "#0d0887"
             ],
             [
              0.1111111111111111,
              "#46039f"
             ],
             [
              0.2222222222222222,
              "#7201a8"
             ],
             [
              0.3333333333333333,
              "#9c179e"
             ],
             [
              0.4444444444444444,
              "#bd3786"
             ],
             [
              0.5555555555555556,
              "#d8576b"
             ],
             [
              0.6666666666666666,
              "#ed7953"
             ],
             [
              0.7777777777777778,
              "#fb9f3a"
             ],
             [
              0.8888888888888888,
              "#fdca26"
             ],
             [
              1,
              "#f0f921"
             ]
            ],
            "type": "histogram2d"
           }
          ],
          "histogram2dcontour": [
           {
            "colorbar": {
             "outlinewidth": 0,
             "ticks": ""
            },
            "colorscale": [
             [
              0,
              "#0d0887"
             ],
             [
              0.1111111111111111,
              "#46039f"
             ],
             [
              0.2222222222222222,
              "#7201a8"
             ],
             [
              0.3333333333333333,
              "#9c179e"
             ],
             [
              0.4444444444444444,
              "#bd3786"
             ],
             [
              0.5555555555555556,
              "#d8576b"
             ],
             [
              0.6666666666666666,
              "#ed7953"
             ],
             [
              0.7777777777777778,
              "#fb9f3a"
             ],
             [
              0.8888888888888888,
              "#fdca26"
             ],
             [
              1,
              "#f0f921"
             ]
            ],
            "type": "histogram2dcontour"
           }
          ],
          "mesh3d": [
           {
            "colorbar": {
             "outlinewidth": 0,
             "ticks": ""
            },
            "type": "mesh3d"
           }
          ],
          "parcoords": [
           {
            "line": {
             "colorbar": {
              "outlinewidth": 0,
              "ticks": ""
             }
            },
            "type": "parcoords"
           }
          ],
          "pie": [
           {
            "automargin": true,
            "type": "pie"
           }
          ],
          "scatter": [
           {
            "fillpattern": {
             "fillmode": "overlay",
             "size": 10,
             "solidity": 0.2
            },
            "type": "scatter"
           }
          ],
          "scatter3d": [
           {
            "line": {
             "colorbar": {
              "outlinewidth": 0,
              "ticks": ""
             }
            },
            "marker": {
             "colorbar": {
              "outlinewidth": 0,
              "ticks": ""
             }
            },
            "type": "scatter3d"
           }
          ],
          "scattercarpet": [
           {
            "marker": {
             "colorbar": {
              "outlinewidth": 0,
              "ticks": ""
             }
            },
            "type": "scattercarpet"
           }
          ],
          "scattergeo": [
           {
            "marker": {
             "colorbar": {
              "outlinewidth": 0,
              "ticks": ""
             }
            },
            "type": "scattergeo"
           }
          ],
          "scattergl": [
           {
            "marker": {
             "colorbar": {
              "outlinewidth": 0,
              "ticks": ""
             }
            },
            "type": "scattergl"
           }
          ],
          "scattermapbox": [
           {
            "marker": {
             "colorbar": {
              "outlinewidth": 0,
              "ticks": ""
             }
            },
            "type": "scattermapbox"
           }
          ],
          "scatterpolar": [
           {
            "marker": {
             "colorbar": {
              "outlinewidth": 0,
              "ticks": ""
             }
            },
            "type": "scatterpolar"
           }
          ],
          "scatterpolargl": [
           {
            "marker": {
             "colorbar": {
              "outlinewidth": 0,
              "ticks": ""
             }
            },
            "type": "scatterpolargl"
           }
          ],
          "scatterternary": [
           {
            "marker": {
             "colorbar": {
              "outlinewidth": 0,
              "ticks": ""
             }
            },
            "type": "scatterternary"
           }
          ],
          "surface": [
           {
            "colorbar": {
             "outlinewidth": 0,
             "ticks": ""
            },
            "colorscale": [
             [
              0,
              "#0d0887"
             ],
             [
              0.1111111111111111,
              "#46039f"
             ],
             [
              0.2222222222222222,
              "#7201a8"
             ],
             [
              0.3333333333333333,
              "#9c179e"
             ],
             [
              0.4444444444444444,
              "#bd3786"
             ],
             [
              0.5555555555555556,
              "#d8576b"
             ],
             [
              0.6666666666666666,
              "#ed7953"
             ],
             [
              0.7777777777777778,
              "#fb9f3a"
             ],
             [
              0.8888888888888888,
              "#fdca26"
             ],
             [
              1,
              "#f0f921"
             ]
            ],
            "type": "surface"
           }
          ],
          "table": [
           {
            "cells": {
             "fill": {
              "color": "#EBF0F8"
             },
             "line": {
              "color": "white"
             }
            },
            "header": {
             "fill": {
              "color": "#C8D4E3"
             },
             "line": {
              "color": "white"
             }
            },
            "type": "table"
           }
          ]
         },
         "layout": {
          "annotationdefaults": {
           "arrowcolor": "#2a3f5f",
           "arrowhead": 0,
           "arrowwidth": 1
          },
          "autotypenumbers": "strict",
          "coloraxis": {
           "colorbar": {
            "outlinewidth": 0,
            "ticks": ""
           }
          },
          "colorscale": {
           "diverging": [
            [
             0,
             "#8e0152"
            ],
            [
             0.1,
             "#c51b7d"
            ],
            [
             0.2,
             "#de77ae"
            ],
            [
             0.3,
             "#f1b6da"
            ],
            [
             0.4,
             "#fde0ef"
            ],
            [
             0.5,
             "#f7f7f7"
            ],
            [
             0.6,
             "#e6f5d0"
            ],
            [
             0.7,
             "#b8e186"
            ],
            [
             0.8,
             "#7fbc41"
            ],
            [
             0.9,
             "#4d9221"
            ],
            [
             1,
             "#276419"
            ]
           ],
           "sequential": [
            [
             0,
             "#0d0887"
            ],
            [
             0.1111111111111111,
             "#46039f"
            ],
            [
             0.2222222222222222,
             "#7201a8"
            ],
            [
             0.3333333333333333,
             "#9c179e"
            ],
            [
             0.4444444444444444,
             "#bd3786"
            ],
            [
             0.5555555555555556,
             "#d8576b"
            ],
            [
             0.6666666666666666,
             "#ed7953"
            ],
            [
             0.7777777777777778,
             "#fb9f3a"
            ],
            [
             0.8888888888888888,
             "#fdca26"
            ],
            [
             1,
             "#f0f921"
            ]
           ],
           "sequentialminus": [
            [
             0,
             "#0d0887"
            ],
            [
             0.1111111111111111,
             "#46039f"
            ],
            [
             0.2222222222222222,
             "#7201a8"
            ],
            [
             0.3333333333333333,
             "#9c179e"
            ],
            [
             0.4444444444444444,
             "#bd3786"
            ],
            [
             0.5555555555555556,
             "#d8576b"
            ],
            [
             0.6666666666666666,
             "#ed7953"
            ],
            [
             0.7777777777777778,
             "#fb9f3a"
            ],
            [
             0.8888888888888888,
             "#fdca26"
            ],
            [
             1,
             "#f0f921"
            ]
           ]
          },
          "colorway": [
           "#636efa",
           "#EF553B",
           "#00cc96",
           "#ab63fa",
           "#FFA15A",
           "#19d3f3",
           "#FF6692",
           "#B6E880",
           "#FF97FF",
           "#FECB52"
          ],
          "font": {
           "color": "#2a3f5f"
          },
          "geo": {
           "bgcolor": "white",
           "lakecolor": "white",
           "landcolor": "white",
           "showlakes": true,
           "showland": true,
           "subunitcolor": "#C8D4E3"
          },
          "hoverlabel": {
           "align": "left"
          },
          "hovermode": "closest",
          "mapbox": {
           "style": "light"
          },
          "paper_bgcolor": "white",
          "plot_bgcolor": "white",
          "polar": {
           "angularaxis": {
            "gridcolor": "#EBF0F8",
            "linecolor": "#EBF0F8",
            "ticks": ""
           },
           "bgcolor": "white",
           "radialaxis": {
            "gridcolor": "#EBF0F8",
            "linecolor": "#EBF0F8",
            "ticks": ""
           }
          },
          "scene": {
           "xaxis": {
            "backgroundcolor": "white",
            "gridcolor": "#DFE8F3",
            "gridwidth": 2,
            "linecolor": "#EBF0F8",
            "showbackground": true,
            "ticks": "",
            "zerolinecolor": "#EBF0F8"
           },
           "yaxis": {
            "backgroundcolor": "white",
            "gridcolor": "#DFE8F3",
            "gridwidth": 2,
            "linecolor": "#EBF0F8",
            "showbackground": true,
            "ticks": "",
            "zerolinecolor": "#EBF0F8"
           },
           "zaxis": {
            "backgroundcolor": "white",
            "gridcolor": "#DFE8F3",
            "gridwidth": 2,
            "linecolor": "#EBF0F8",
            "showbackground": true,
            "ticks": "",
            "zerolinecolor": "#EBF0F8"
           }
          },
          "shapedefaults": {
           "line": {
            "color": "#2a3f5f"
           }
          },
          "ternary": {
           "aaxis": {
            "gridcolor": "#DFE8F3",
            "linecolor": "#A2B1C6",
            "ticks": ""
           },
           "baxis": {
            "gridcolor": "#DFE8F3",
            "linecolor": "#A2B1C6",
            "ticks": ""
           },
           "bgcolor": "white",
           "caxis": {
            "gridcolor": "#DFE8F3",
            "linecolor": "#A2B1C6",
            "ticks": ""
           }
          },
          "title": {
           "x": 0.05
          },
          "xaxis": {
           "automargin": true,
           "gridcolor": "#EBF0F8",
           "linecolor": "#EBF0F8",
           "ticks": "",
           "title": {
            "standoff": 15
           },
           "zerolinecolor": "#EBF0F8",
           "zerolinewidth": 2
          },
          "yaxis": {
           "automargin": true,
           "gridcolor": "#EBF0F8",
           "linecolor": "#EBF0F8",
           "ticks": "",
           "title": {
            "standoff": 15
           },
           "zerolinecolor": "#EBF0F8",
           "zerolinewidth": 2
          }
         }
        },
        "title": {
         "font": {
          "color": "Black",
          "size": 22
         },
         "text": "Topic Word Scores",
         "x": 0.5,
         "xanchor": "center",
         "yanchor": "top"
        },
        "width": 1000,
        "xaxis": {
         "anchor": "y",
         "domain": [
          0,
          0.175
         ],
         "showgrid": true
        },
        "xaxis2": {
         "anchor": "y2",
         "domain": [
          0.275,
          0.45
         ],
         "showgrid": true
        },
        "xaxis3": {
         "anchor": "y3",
         "domain": [
          0.55,
          0.7250000000000001
         ],
         "showgrid": true
        },
        "xaxis4": {
         "anchor": "y4",
         "domain": [
          0.825,
          1
         ],
         "showgrid": true
        },
        "xaxis5": {
         "anchor": "y5",
         "domain": [
          0,
          0.175
         ],
         "showgrid": true
        },
        "xaxis6": {
         "anchor": "y6",
         "domain": [
          0.275,
          0.45
         ],
         "showgrid": true
        },
        "xaxis7": {
         "anchor": "y7",
         "domain": [
          0.55,
          0.7250000000000001
         ],
         "showgrid": true
        },
        "xaxis8": {
         "anchor": "y8",
         "domain": [
          0.825,
          1
         ],
         "showgrid": true
        },
        "yaxis": {
         "anchor": "x",
         "domain": [
          0.6000000000000001,
          1
         ],
         "showgrid": true
        },
        "yaxis2": {
         "anchor": "x2",
         "domain": [
          0.6000000000000001,
          1
         ],
         "showgrid": true
        },
        "yaxis3": {
         "anchor": "x3",
         "domain": [
          0.6000000000000001,
          1
         ],
         "showgrid": true
        },
        "yaxis4": {
         "anchor": "x4",
         "domain": [
          0.6000000000000001,
          1
         ],
         "showgrid": true
        },
        "yaxis5": {
         "anchor": "x5",
         "domain": [
          0,
          0.4
         ],
         "showgrid": true
        },
        "yaxis6": {
         "anchor": "x6",
         "domain": [
          0,
          0.4
         ],
         "showgrid": true
        },
        "yaxis7": {
         "anchor": "x7",
         "domain": [
          0,
          0.4
         ],
         "showgrid": true
        },
        "yaxis8": {
         "anchor": "x8",
         "domain": [
          0,
          0.4
         ],
         "showgrid": true
        }
       }
      }
     },
     "metadata": {},
     "output_type": "display_data"
    }
   ],
   "source": [
    "topic_model.visualize_barchart()\n"
   ]
  },
  {
   "cell_type": "markdown",
   "metadata": {},
   "source": [
    "This bar charts (saved as Plot1)  represent the most relevant words for a selection of topics (Topic 0 to Topic 7) along with their respective scores. The words at the longer end of the bars are the ones that most define the topic and are used to interpret what the topic is about.\n",
    "For example:\n",
    "- Topic 0 seems to be about general interest, concerns, and questions, potentially related to work or other matters that elicited a response (noted by \"lol\").\n",
    "- Topic 1 is clearly focused on Twitter, mentioning accounts, tweets, and platforms, which may relate to discussions about social media usage.\n",
    "- Topic 2 might be related to customer engagement or service (with words like \"people,\" \"subscribe,\" \"real\").\n",
    "- Topic 3 is centered around Tesla, with references to cars, AI, and the team, likely reflecting discussions about Tesla's products and technological advancements.\n",
    "- Topic 4 involves SpaceX's projects, as evidenced by words like \"starlink,\" \"starship,\" \"launch,\" and \"orbit.\""
   ]
  },
  {
   "cell_type": "markdown",
   "metadata": {},
   "source": [
    "# 6. Conclusion"
   ]
  },
  {
   "cell_type": "markdown",
   "metadata": {},
   "source": [
    "In this project we attempted to confirm, if Elon Musk in his tweets is referencing mainly to the politics, ai topics, his own businesses and moral issues. We used three approaches clustering, NER and topic modelling. <br>\n",
    "<br>\n",
    "In clustering, our model was struggling with the stopwords. Whenever we run the model, the new stopwords appeared as a representatives of the clusters, we added them to the stopwords list and this loop seemed to had no end. Even though if through constantly adding the new slang words, stopwords, abbreviations (...) to our stopwords list we would eventually reach the goal of only the substantial words to be clustered, it is largely time-consuming and uneffective approach.<br><br>\n",
    "For NER, we were able to create a hierarchy of the words already assigned to some categories (entities). Since the algorithm skipped in advance the words it was unable to clasify, we could focus on the actual entities. In result, the assessment went time-effectively and the output was easy to interpret. <br><br>\n",
    "As a result of Topic modeling, it was easier to categorize the output to some patent group (topic), but still the output wasn't straightforward and one could have some doubts.<br><br>\n",
    "Our assessment helped us to verify, that NER might be the appropriate model when we work on the data with a lot of daily-use words, neologism or slang and our purpose is to extract the topics that are commonly raised in the document. According to NER, Elon Musk's tweets are frequently refer to organizations, people, dates, cardinal (statistics), geopolitics, products (among the others, those related to the space business), nationalities or religious or political groups, locations. Although those categories are strictly the topics that the Twitter is known from, if we will take a closer look for the instances of those entities, we will see Tesla, Twitter, Starlink, Trump, planets, space business, different representativess of social groups and so on - which are strictly related to Musk. It can be the initial stage of confirming our hypothesis."
   ]
  },
  {
   "cell_type": "markdown",
   "metadata": {},
   "source": [
    "# 7.Appendix"
   ]
  },
  {
   "cell_type": "markdown",
   "metadata": {},
   "source": [
    "Fullform word finder - while rootforms of the worlds are provided in the models' outputs, it might be hard to interpret them and drag a conclusions. For this reason, I have created this searching tool, which wil provide us an instance of the searching world in the original text."
   ]
  },
  {
   "cell_type": "code",
   "execution_count": 50,
   "metadata": {},
   "outputs": [
    {
     "name": "stdout",
     "output_type": "stream",
     "text": [
      "Rootform Text: ['ok', 'we', 'will', 'add', 'a', 'donat', 'option', 'to', 'starlink']\n",
      "Original Text: Ok we will add a donate option to Starlink\n",
      "\n",
      "Rootform Text: ['are', 'there', 'other', 'that', 'want', 'to', 'donat', 'starlink', 'to', 'place', 'in', 'need', 'httpstcom0asmenmrd']\n",
      "Original Text: Are there others that want to donate Starlinks to places in need httpstcoM0ASMenMRD\n",
      "\n",
      "Rootform Text: ['usernam', 'im', 'still', 'confus', 'as', 'to', 'how', 'a', 'nonprofit', 'to', 'which', 'i', 'donat', '100m', 'somehow', 'becam', 'a', '30b', 'market', 'cap', 'httpstcodbtfmv4vcv']\n",
      "Original Text: username Im still confused as to how a nonprofit to which I donated 100M somehow became a 30B market cap httpstcoDBtfMV4VCV\n",
      "\n",
      "Rootform Text: ['usernam', 'i', 'donat', 'the', 'first', '100m', 'to', 'openai', 'when', 'it', 'wa', 'a', 'nonprofit', 'but', 'have', 'no', 'ownership', 'or', 'control']\n",
      "Original Text: username I donated the first 100M to OpenAI when it was a nonprofit but have no ownership or control\n",
      "\n",
      "Rootform Text: ['usernam', 'ive', 'donat', '100m', 'to', 'ukrain', 'how', 'much', 'have', 'you', 'donat', 'we', 'turn', 'down', 'the', 'dod', 'money', 'btw', 'httpstcowpla6dtnp6']\n",
      "Original Text: username Ive donated 100M to Ukraine how much have you donated\n",
      "\n",
      "We turned down the DoD money btw httpstcowpLa6dTnP6\n",
      "\n"
     ]
    }
   ],
   "source": [
    "# Find '...' in the 'rootform_text' column\n",
    "occurrences = [i for i, rootform_text in enumerate(tweets['rootform_text']) if 'donat' in rootform_text]\n",
    "\n",
    "# Get the 'rootform_text' and 'text' for each occurrence\n",
    "rootform_texts = [tweets['rootform_text'].iloc[i] for i in occurrences]\n",
    "original_texts = [tweets['text'].iloc[i] for i in occurrences]\n",
    "\n",
    "for rootform_text, original_text in zip(rootform_texts, original_texts):\n",
    "    print(\"Rootform Text:\", rootform_text)\n",
    "    print(\"Original Text:\", original_text)\n",
    "    print()\n"
   ]
  }
 ],
 "metadata": {
  "kernelspec": {
   "display_name": "base",
   "language": "python",
   "name": "python3"
  },
  "language_info": {
   "codemirror_mode": {
    "name": "ipython",
    "version": 3
   },
   "file_extension": ".py",
   "mimetype": "text/x-python",
   "name": "python",
   "nbconvert_exporter": "python",
   "pygments_lexer": "ipython3",
   "version": "3.11.5"
  }
 },
 "nbformat": 4,
 "nbformat_minor": 2
}
